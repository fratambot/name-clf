{
 "cells": [
  {
   "cell_type": "code",
   "execution_count": 1,
   "id": "a2804beb",
   "metadata": {},
   "outputs": [],
   "source": [
    "%load_ext autoreload\n",
    "%autoreload 2"
   ]
  },
  {
   "cell_type": "code",
   "execution_count": 2,
   "id": "16e25ecc",
   "metadata": {},
   "outputs": [],
   "source": [
    "import os\n",
    "import pandas as pd\n",
    "import matplotlib.pyplot as plt\n",
    "import pycountry\n",
    "import seaborn as sns\n",
    "\n",
    "from names_dataset import NameDataset"
   ]
  },
  {
   "cell_type": "code",
   "execution_count": 3,
   "id": "8024c8de",
   "metadata": {},
   "outputs": [],
   "source": [
    "pd.options.display.max_seq_items = 2000\n",
    "pd.options.display.max_columns = 500\n",
    "pd.options.display.max_rows = 800\n",
    "pd.options.display.max_colwidth = 200\n",
    "pd.options.display.width = 800"
   ]
  },
  {
   "cell_type": "code",
   "execution_count": 4,
   "id": "c3178e2c",
   "metadata": {},
   "outputs": [
    {
     "data": {
      "text/plain": [
       "'/Users/francesco/REPOS/nam-nat-CNN-clf/notebooks'"
      ]
     },
     "execution_count": 4,
     "metadata": {},
     "output_type": "execute_result"
    }
   ],
   "source": [
    "os.getcwd()"
   ]
  },
  {
   "cell_type": "code",
   "execution_count": 5,
   "id": "89752538",
   "metadata": {},
   "outputs": [],
   "source": [
    "base_url = '/Users/francesco/REPOS/nam-nat-CNN-clf/app'"
   ]
  },
  {
   "cell_type": "code",
   "execution_count": 6,
   "id": "dc29bb87",
   "metadata": {},
   "outputs": [],
   "source": [
    "os.chdir(base_url)"
   ]
  },
  {
   "cell_type": "code",
   "execution_count": 7,
   "id": "19d7feb7",
   "metadata": {},
   "outputs": [],
   "source": [
    "from utils.dev_utils import load_raw_data\n",
    "from utils.prod_utils import remove_digits_punctuation_doublespaces"
   ]
  },
  {
   "cell_type": "code",
   "execution_count": 8,
   "id": "82f231d2",
   "metadata": {},
   "outputs": [],
   "source": [
    "nd = NameDataset()"
   ]
  },
  {
   "cell_type": "code",
   "execution_count": 9,
   "id": "fd2b9d90",
   "metadata": {},
   "outputs": [
    {
     "name": "stdout",
     "output_type": "stream",
     "text": [
      "['AE', 'AF', 'AL', 'AO', 'AR', 'AT', 'AZ', 'BD', 'BE', 'BF', 'BG', 'BH', 'BI', 'BN', 'BO', 'BR', 'BW', 'CA', 'CH', 'CL', 'CM', 'CN', 'CO', 'CR', 'CY', 'CZ', 'DE', 'DJ', 'DK', 'DZ', 'EC', 'EE', 'EG', 'ES', 'ET', 'FI', 'FJ', 'FR', 'GB', 'GE', 'GH', 'GR', 'GT', 'HK', 'HN', 'HR', 'HT', 'HU', 'ID', 'IE', 'IL', 'IN', 'IQ', 'IR', 'IS', 'IT', 'JM', 'JO', 'JP', 'KH', 'KR', 'KW', 'KZ', 'LB', 'LT', 'LU', 'LY', 'MA', 'MD', 'MO', 'MT', 'MU', 'MV', 'MX', 'MY', 'NA', 'NG', 'NL', 'NO', 'OM', 'PA', 'PE', 'PH', 'PL', 'PR', 'PS', 'PT', 'QA', 'RS', 'RU', 'SA', 'SD', 'SE', 'SG', 'SI', 'SV', 'SY', 'TM', 'TN', 'TR', 'TW', 'US', 'UY', 'YE', 'ZA']\n"
     ]
    },
    {
     "data": {
      "text/plain": [
       "{'AE': 'United Arab Emirates',\n",
       " 'AF': 'Afghanistan',\n",
       " 'AL': 'Albania',\n",
       " 'AO': 'Angola',\n",
       " 'AR': 'Argentina',\n",
       " 'AT': 'Austria',\n",
       " 'AZ': 'Azerbaijan',\n",
       " 'BD': 'Bangladesh',\n",
       " 'BE': 'Belgium',\n",
       " 'BF': 'Burkina Faso',\n",
       " 'BG': 'Bulgaria',\n",
       " 'BH': 'Bahrain',\n",
       " 'BI': 'Burundi',\n",
       " 'BN': 'Brunei Darussalam',\n",
       " 'BO': 'Bolivia, Plurinational State of',\n",
       " 'BR': 'Brazil',\n",
       " 'BW': 'Botswana',\n",
       " 'CA': 'Canada',\n",
       " 'CH': 'Switzerland',\n",
       " 'CL': 'Chile',\n",
       " 'CM': 'Cameroon',\n",
       " 'CN': 'China',\n",
       " 'CO': 'Colombia',\n",
       " 'CR': 'Costa Rica',\n",
       " 'CY': 'Cyprus',\n",
       " 'CZ': 'Czechia',\n",
       " 'DE': 'Germany',\n",
       " 'DJ': 'Djibouti',\n",
       " 'DK': 'Denmark',\n",
       " 'DZ': 'Algeria',\n",
       " 'EC': 'Ecuador',\n",
       " 'EE': 'Estonia',\n",
       " 'EG': 'Egypt',\n",
       " 'ES': 'Spain',\n",
       " 'ET': 'Ethiopia',\n",
       " 'FI': 'Finland',\n",
       " 'FJ': 'Fiji',\n",
       " 'FR': 'France',\n",
       " 'GB': 'United Kingdom',\n",
       " 'GE': 'Georgia',\n",
       " 'GH': 'Ghana',\n",
       " 'GR': 'Greece',\n",
       " 'GT': 'Guatemala',\n",
       " 'HK': 'Hong Kong',\n",
       " 'HN': 'Honduras',\n",
       " 'HR': 'Croatia',\n",
       " 'HT': 'Haiti',\n",
       " 'HU': 'Hungary',\n",
       " 'ID': 'Indonesia',\n",
       " 'IE': 'Ireland',\n",
       " 'IL': 'Israel',\n",
       " 'IN': 'India',\n",
       " 'IQ': 'Iraq',\n",
       " 'IR': 'Iran, Islamic Republic of',\n",
       " 'IS': 'Iceland',\n",
       " 'IT': 'Italy',\n",
       " 'JM': 'Jamaica',\n",
       " 'JO': 'Jordan',\n",
       " 'JP': 'Japan',\n",
       " 'KH': 'Cambodia',\n",
       " 'KR': 'Korea, Republic of',\n",
       " 'KW': 'Kuwait',\n",
       " 'KZ': 'Kazakhstan',\n",
       " 'LB': 'Lebanon',\n",
       " 'LT': 'Lithuania',\n",
       " 'LU': 'Luxembourg',\n",
       " 'LY': 'Libya',\n",
       " 'MA': 'Morocco',\n",
       " 'MD': 'Moldova, Republic of',\n",
       " 'MO': 'Macao',\n",
       " 'MT': 'Malta',\n",
       " 'MU': 'Mauritius',\n",
       " 'MV': 'Maldives',\n",
       " 'MX': 'Mexico',\n",
       " 'MY': 'Malaysia',\n",
       " 'NA': 'Namibia',\n",
       " 'NG': 'Nigeria',\n",
       " 'NL': 'Netherlands',\n",
       " 'NO': 'Norway',\n",
       " 'OM': 'Oman',\n",
       " 'PA': 'Panama',\n",
       " 'PE': 'Peru',\n",
       " 'PH': 'Philippines',\n",
       " 'PL': 'Poland',\n",
       " 'PR': 'Puerto Rico',\n",
       " 'PS': 'Palestine, State of',\n",
       " 'PT': 'Portugal',\n",
       " 'QA': 'Qatar',\n",
       " 'RS': 'Serbia',\n",
       " 'RU': 'Russian Federation',\n",
       " 'SA': 'Saudi Arabia',\n",
       " 'SD': 'Sudan',\n",
       " 'SE': 'Sweden',\n",
       " 'SG': 'Singapore',\n",
       " 'SI': 'Slovenia',\n",
       " 'SV': 'El Salvador',\n",
       " 'SY': 'Syrian Arab Republic',\n",
       " 'TM': 'Turkmenistan',\n",
       " 'TN': 'Tunisia',\n",
       " 'TR': 'Turkey',\n",
       " 'TW': 'Taiwan, Province of China',\n",
       " 'US': 'United States',\n",
       " 'UY': 'Uruguay',\n",
       " 'YE': 'Yemen',\n",
       " 'ZA': 'South Africa'}"
      ]
     },
     "execution_count": 9,
     "metadata": {},
     "output_type": "execute_result"
    }
   ],
   "source": [
    "country_codes = nd.get_country_codes(alpha_2=True)\n",
    "print(country_codes)\n",
    "country_mapping = {}\n",
    "for country_code in country_codes:\n",
    "    country_name = pycountry.countries.get(alpha_2=country_code).name\n",
    "    country_mapping[country_code] = country_name\n",
    "\n",
    "country_mapping"
   ]
  },
  {
   "cell_type": "code",
   "execution_count": 27,
   "id": "20bb3ad9",
   "metadata": {},
   "outputs": [
    {
     "name": "stdout",
     "output_type": "stream",
     "text": [
      "{'DE': 'Germany', 'ES': 'Spain', 'FR': 'France', 'GB': 'United Kingdom', 'IT': 'Italy'}\n"
     ]
    }
   ],
   "source": [
    "subset = (\"ES\", \"IT\", \"FR\", \"DE\", \"GB\")\n",
    "europe = dict(filter(lambda i:i[0] in subset, country_mapping.items()))\n",
    "print(europe)\n"
   ]
  },
  {
   "cell_type": "code",
   "execution_count": 38,
   "id": "816c5fc0",
   "metadata": {},
   "outputs": [
    {
     "name": "stdout",
     "output_type": "stream",
     "text": [
      "DE\n",
      "ES\n",
      "FR\n",
      "GB\n",
      "IT\n"
     ]
    },
    {
     "data": {
      "text/plain": [
       "(20000, 3)"
      ]
     },
     "execution_count": 38,
     "metadata": {},
     "output_type": "execute_result"
    }
   ],
   "source": [
    "entries = []\n",
    "for key, value in europe.items():\n",
    "    print(key)\n",
    "    result_male = nd.get_top_names(n=2000, gender=\"Male\", country_alpha2=key)\n",
    "    for name_male in result_male[key][\"M\"]:\n",
    "        entries.append(\n",
    "            {\n",
    "                \"Name\": name_male,\n",
    "                \"Country\": value,\n",
    "                \"Gender\": \"Male\"\n",
    "            }\n",
    "        )\n",
    "    result_female = nd.get_top_names(n=2000, gender=\"Female\", country_alpha2=key)\n",
    "    for name_female in result_female[key][\"F\"]:\n",
    "        entries.append(\n",
    "            {\n",
    "                \"Name\": name_female,\n",
    "                \"Country\": value,\n",
    "                \"Gender\": \"Female\"\n",
    "            }\n",
    "        )\n",
    "\n",
    "df = pd.DataFrame(entries)\n",
    "df.shape\n",
    "    "
   ]
  },
  {
   "cell_type": "code",
   "execution_count": 39,
   "id": "95300120",
   "metadata": {},
   "outputs": [
    {
     "data": {
      "text/html": [
       "<div>\n",
       "<style scoped>\n",
       "    .dataframe tbody tr th:only-of-type {\n",
       "        vertical-align: middle;\n",
       "    }\n",
       "\n",
       "    .dataframe tbody tr th {\n",
       "        vertical-align: top;\n",
       "    }\n",
       "\n",
       "    .dataframe thead th {\n",
       "        text-align: right;\n",
       "    }\n",
       "</style>\n",
       "<table border=\"1\" class=\"dataframe\">\n",
       "  <thead>\n",
       "    <tr style=\"text-align: right;\">\n",
       "      <th></th>\n",
       "      <th>Name</th>\n",
       "      <th>Country</th>\n",
       "      <th>Gender</th>\n",
       "    </tr>\n",
       "  </thead>\n",
       "  <tbody>\n",
       "    <tr>\n",
       "      <th>0</th>\n",
       "      <td>Michael</td>\n",
       "      <td>Germany</td>\n",
       "      <td>Male</td>\n",
       "    </tr>\n",
       "    <tr>\n",
       "      <th>1</th>\n",
       "      <td>Thomas</td>\n",
       "      <td>Germany</td>\n",
       "      <td>Male</td>\n",
       "    </tr>\n",
       "    <tr>\n",
       "      <th>2</th>\n",
       "      <td>Andreas</td>\n",
       "      <td>Germany</td>\n",
       "      <td>Male</td>\n",
       "    </tr>\n",
       "    <tr>\n",
       "      <th>3</th>\n",
       "      <td>Christian</td>\n",
       "      <td>Germany</td>\n",
       "      <td>Male</td>\n",
       "    </tr>\n",
       "    <tr>\n",
       "      <th>4</th>\n",
       "      <td>Stefan</td>\n",
       "      <td>Germany</td>\n",
       "      <td>Male</td>\n",
       "    </tr>\n",
       "  </tbody>\n",
       "</table>\n",
       "</div>"
      ],
      "text/plain": [
       "        Name  Country Gender\n",
       "0    Michael  Germany   Male\n",
       "1     Thomas  Germany   Male\n",
       "2    Andreas  Germany   Male\n",
       "3  Christian  Germany   Male\n",
       "4     Stefan  Germany   Male"
      ]
     },
     "execution_count": 39,
     "metadata": {},
     "output_type": "execute_result"
    }
   ],
   "source": [
    "df.head()"
   ]
  },
  {
   "cell_type": "code",
   "execution_count": 40,
   "id": "04d00f6f",
   "metadata": {},
   "outputs": [
    {
     "name": "stdout",
     "output_type": "stream",
     "text": [
      "Name       0\n",
      "Country    0\n",
      "Gender     0\n",
      "dtype: int64\n"
     ]
    }
   ],
   "source": [
    "print(df.isna().sum())"
   ]
  },
  {
   "cell_type": "code",
   "execution_count": 41,
   "id": "953122bd",
   "metadata": {},
   "outputs": [
    {
     "name": "stdout",
     "output_type": "stream",
     "text": [
      "Male      10000\n",
      "Female    10000\n",
      "Name: Gender, dtype: int64\n"
     ]
    },
    {
     "data": {
      "text/plain": [
       "<AxesSubplot:ylabel='Gender'>"
      ]
     },
     "execution_count": 41,
     "metadata": {},
     "output_type": "execute_result"
    },
    {
     "data": {
      "image/png": "[encoded data removed]",
      "text/plain": [
       "<Figure size 500x500 with 1 Axes>"
      ]
     },
     "metadata": {},
     "output_type": "display_data"
    }
   ],
   "source": [
    "print(df[\"Gender\"].value_counts())\n",
    "df[\"Gender\"].value_counts().plot(kind='pie', figsize=(5,5))"
   ]
  },
  {
   "cell_type": "code",
   "execution_count": 42,
   "id": "b6b0b26d",
   "metadata": {},
   "outputs": [
    {
     "name": "stdout",
     "output_type": "stream",
     "text": [
      "Germany           4000\n",
      "Spain             4000\n",
      "France            4000\n",
      "United Kingdom    4000\n",
      "Italy             4000\n",
      "Name: Country, dtype: int64\n"
     ]
    },
    {
     "data": {
      "text/plain": [
       "<AxesSubplot:ylabel='Country'>"
      ]
     },
     "execution_count": 42,
     "metadata": {},
     "output_type": "execute_result"
    },
    {
     "data": {
      "image/png": "[encoded data removed]",
      "text/plain": [
       "<Figure size 500x500 with 1 Axes>"
      ]
     },
     "metadata": {},
     "output_type": "display_data"
    }
   ],
   "source": [
    "print(df[\"Country\"].value_counts())\n",
    "df[\"Country\"].value_counts().plot(kind='pie', figsize=(5,5))"
   ]
  },
  {
   "cell_type": "code",
   "execution_count": 43,
   "id": "d6aa2144",
   "metadata": {},
   "outputs": [
    {
     "name": "stdout",
     "output_type": "stream",
     "text": [
      "France\n",
      "frame =  Male      2000\n",
      "Female    2000\n",
      "Name: Gender, dtype: int64\n",
      "---\n",
      "Germany\n",
      "frame =  Male      2000\n",
      "Female    2000\n",
      "Name: Gender, dtype: int64\n",
      "---\n",
      "Italy\n",
      "frame =  Male      2000\n",
      "Female    2000\n",
      "Name: Gender, dtype: int64\n",
      "---\n",
      "Spain\n",
      "frame =  Male      2000\n",
      "Female    2000\n",
      "Name: Gender, dtype: int64\n",
      "---\n",
      "United Kingdom\n",
      "frame =  Male      2000\n",
      "Female    2000\n",
      "Name: Gender, dtype: int64\n",
      "---\n"
     ]
    },
    {
     "data": {
      "text/html": [
       "<div>\n",
       "<style scoped>\n",
       "    .dataframe tbody tr th:only-of-type {\n",
       "        vertical-align: middle;\n",
       "    }\n",
       "\n",
       "    .dataframe tbody tr th {\n",
       "        vertical-align: top;\n",
       "    }\n",
       "\n",
       "    .dataframe thead th {\n",
       "        text-align: right;\n",
       "    }\n",
       "</style>\n",
       "<table border=\"1\" class=\"dataframe\">\n",
       "  <thead>\n",
       "    <tr style=\"text-align: right;\">\n",
       "      <th></th>\n",
       "      <th>Country</th>\n",
       "      <th>Female</th>\n",
       "      <th>Male</th>\n",
       "    </tr>\n",
       "  </thead>\n",
       "  <tbody>\n",
       "    <tr>\n",
       "      <th>0</th>\n",
       "      <td>France</td>\n",
       "      <td>2000</td>\n",
       "      <td>2000</td>\n",
       "    </tr>\n",
       "    <tr>\n",
       "      <th>1</th>\n",
       "      <td>Germany</td>\n",
       "      <td>2000</td>\n",
       "      <td>2000</td>\n",
       "    </tr>\n",
       "    <tr>\n",
       "      <th>2</th>\n",
       "      <td>Italy</td>\n",
       "      <td>2000</td>\n",
       "      <td>2000</td>\n",
       "    </tr>\n",
       "    <tr>\n",
       "      <th>3</th>\n",
       "      <td>Spain</td>\n",
       "      <td>2000</td>\n",
       "      <td>2000</td>\n",
       "    </tr>\n",
       "    <tr>\n",
       "      <th>4</th>\n",
       "      <td>United Kingdom</td>\n",
       "      <td>2000</td>\n",
       "      <td>2000</td>\n",
       "    </tr>\n",
       "  </tbody>\n",
       "</table>\n",
       "</div>"
      ],
      "text/plain": [
       "          Country  Female  Male\n",
       "0          France    2000  2000\n",
       "1         Germany    2000  2000\n",
       "2           Italy    2000  2000\n",
       "3           Spain    2000  2000\n",
       "4  United Kingdom    2000  2000"
      ]
     },
     "execution_count": 43,
     "metadata": {},
     "output_type": "execute_result"
    }
   ],
   "source": [
    "grouped = df.groupby(\"Country\")\n",
    "result = []\n",
    "for gen, group in grouped:\n",
    "    print(gen)\n",
    "    #print(group[\"gender\"].value_counts(sort=False))\n",
    "    frame = group[\"Gender\"].value_counts(sort=False)\n",
    "    print(\"frame = \", frame)\n",
    "    print(\"---\")\n",
    "    result.append({\n",
    "        \"Country\": gen, \n",
    "        \"Female\" : group[\"Gender\"].value_counts().values[0],\n",
    "        \"Male\" : group[\"Gender\"].value_counts().values[1],\n",
    "        #\"Neutral\" : group[\"Gender\"].value_counts().values[2],\n",
    "        })\n",
    "    #print(result)\n",
    "\n",
    "result_df = pd.DataFrame(result)\n",
    "result_df\n",
    "    #print(gen)\n",
    "    #print(group[\"gender\"].value_counts())\n",
    "    "
   ]
  },
  {
   "cell_type": "code",
   "execution_count": 44,
   "id": "62ba29b5",
   "metadata": {},
   "outputs": [
    {
     "data": {
      "text/plain": [
       "<AxesSubplot:xlabel='Country', ylabel='Count'>"
      ]
     },
     "execution_count": 44,
     "metadata": {},
     "output_type": "execute_result"
    },
    {
     "data": {
      "image/png": "[encoded data removed]",
      "text/plain": [
       "<Figure size 640x480 with 1 Axes>"
      ]
     },
     "metadata": {},
     "output_type": "display_data"
    }
   ],
   "source": [
    "sns.histplot(data=df, x=\"Country\", hue=\"Gender\", multiple=\"stack\")"
   ]
  },
  {
   "cell_type": "code",
   "execution_count": 45,
   "id": "d55b8fc2",
   "metadata": {},
   "outputs": [
    {
     "name": "stdout",
     "output_type": "stream",
     "text": [
      "14365\n"
     ]
    }
   ],
   "source": [
    "dups_name = df.pivot_table(columns=['Name'], aggfunc='size')\n",
    "print(len(dups_name))"
   ]
  },
  {
   "cell_type": "code",
   "execution_count": null,
   "id": "949094d9",
   "metadata": {},
   "outputs": [],
   "source": []
  }
 ],
 "metadata": {
  "kernelspec": {
   "display_name": "Python 3.9.12 ('nam-nat-CNN-clf')",
   "language": "python",
   "name": "python3"
  },
  "language_info": {
   "codemirror_mode": {
    "name": "ipython",
    "version": 3
   },
   "file_extension": ".py",
   "mimetype": "text/x-python",
   "name": "python",
   "nbconvert_exporter": "python",
   "pygments_lexer": "ipython3",
   "version": "3.9.15"
  },
  "vscode": {
   "interpreter": {
    "hash": "e4b5f215e7873d7704b783e5deeb7bd03ff86fe6a29d6e777cd829734451072d"
   }
  }
 },
 "nbformat": 4,
 "nbformat_minor": 5
}
