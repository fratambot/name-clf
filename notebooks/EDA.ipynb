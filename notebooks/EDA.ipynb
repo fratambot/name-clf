{
 "cells": [
  {
   "cell_type": "code",
   "execution_count": 66,
   "id": "a2804beb",
   "metadata": {},
   "outputs": [
    {
     "name": "stdout",
     "output_type": "stream",
     "text": [
      "The autoreload extension is already loaded. To reload it, use:\n",
      "  %reload_ext autoreload\n"
     ]
    }
   ],
   "source": [
    "%load_ext autoreload\n",
    "%autoreload 2"
   ]
  },
  {
   "cell_type": "code",
   "execution_count": 67,
   "id": "16e25ecc",
   "metadata": {},
   "outputs": [],
   "source": [
    "import os\n",
    "import pandas as pd\n",
    "import matplotlib.pyplot as plt\n",
    "import seaborn as sns"
   ]
  },
  {
   "cell_type": "code",
   "execution_count": 68,
   "id": "8024c8de",
   "metadata": {},
   "outputs": [],
   "source": [
    "pd.options.display.max_seq_items = 2000\n",
    "pd.options.display.max_columns = 500\n",
    "pd.options.display.max_rows = 800\n",
    "pd.options.display.max_colwidth = 200\n",
    "pd.options.display.width = 800"
   ]
  },
  {
   "cell_type": "code",
   "execution_count": 69,
   "id": "c3178e2c",
   "metadata": {},
   "outputs": [
    {
     "data": {
      "text/plain": [
       "'/Users/francesco/REPOS/nam-nat-CNN-clf/app'"
      ]
     },
     "execution_count": 69,
     "metadata": {},
     "output_type": "execute_result"
    }
   ],
   "source": [
    "os.getcwd()"
   ]
  },
  {
   "cell_type": "code",
   "execution_count": 70,
   "id": "89752538",
   "metadata": {},
   "outputs": [],
   "source": [
    "base_url = '/Users/francesco/REPOS/nam-nat-CNN-clf/app'"
   ]
  },
  {
   "cell_type": "code",
   "execution_count": 71,
   "id": "dc29bb87",
   "metadata": {},
   "outputs": [],
   "source": [
    "os.chdir(base_url)"
   ]
  },
  {
   "cell_type": "code",
   "execution_count": 72,
   "id": "19d7feb7",
   "metadata": {},
   "outputs": [],
   "source": [
    "from src.utils.dev_utils import load_raw_data "
   ]
  },
  {
   "cell_type": "code",
   "execution_count": 73,
   "id": "974f137c",
   "metadata": {},
   "outputs": [
    {
     "name": "stdout",
     "output_type": "stream",
     "text": [
      "csv loaded into dataframe of shape:  (4695, 3)\n"
     ]
    }
   ],
   "source": [
    "filepath = os.path.join(base_url, \"data\", \"names-by-nationality.csv\")\n",
    "raw_data = load_raw_data(filepath)"
   ]
  },
  {
   "cell_type": "code",
   "execution_count": 74,
   "id": "1d568a73",
   "metadata": {},
   "outputs": [
    {
     "name": "stdout",
     "output_type": "stream",
     "text": [
      "(4695, 3)\n"
     ]
    },
    {
     "data": {
      "text/html": [
       "<div>\n",
       "<style scoped>\n",
       "    .dataframe tbody tr th:only-of-type {\n",
       "        vertical-align: middle;\n",
       "    }\n",
       "\n",
       "    .dataframe tbody tr th {\n",
       "        vertical-align: top;\n",
       "    }\n",
       "\n",
       "    .dataframe thead th {\n",
       "        text-align: right;\n",
       "    }\n",
       "</style>\n",
       "<table border=\"1\" class=\"dataframe\">\n",
       "  <thead>\n",
       "    <tr style=\"text-align: right;\">\n",
       "      <th></th>\n",
       "      <th>name</th>\n",
       "      <th>sex</th>\n",
       "      <th>nationality</th>\n",
       "    </tr>\n",
       "  </thead>\n",
       "  <tbody>\n",
       "    <tr>\n",
       "      <th>0</th>\n",
       "      <td>Aarav</td>\n",
       "      <td>Male</td>\n",
       "      <td>Indian</td>\n",
       "    </tr>\n",
       "    <tr>\n",
       "      <th>1</th>\n",
       "      <td>Aaryan</td>\n",
       "      <td>Male</td>\n",
       "      <td>Indian</td>\n",
       "    </tr>\n",
       "    <tr>\n",
       "      <th>2</th>\n",
       "      <td>Abha</td>\n",
       "      <td>Female</td>\n",
       "      <td>Indian</td>\n",
       "    </tr>\n",
       "    <tr>\n",
       "      <th>3</th>\n",
       "      <td>Abhay</td>\n",
       "      <td>Male</td>\n",
       "      <td>Indian</td>\n",
       "    </tr>\n",
       "    <tr>\n",
       "      <th>4</th>\n",
       "      <td>Abhilash</td>\n",
       "      <td>Male</td>\n",
       "      <td>Indian</td>\n",
       "    </tr>\n",
       "  </tbody>\n",
       "</table>\n",
       "</div>"
      ],
      "text/plain": [
       "       name     sex nationality\n",
       "0     Aarav    Male      Indian\n",
       "1    Aaryan    Male      Indian\n",
       "2      Abha  Female      Indian\n",
       "3     Abhay    Male      Indian\n",
       "4  Abhilash    Male      Indian"
      ]
     },
     "execution_count": 74,
     "metadata": {},
     "output_type": "execute_result"
    }
   ],
   "source": [
    "print(raw_data.shape)\n",
    "raw_data.head()"
   ]
  },
  {
   "cell_type": "code",
   "execution_count": 75,
   "id": "3c98cbde",
   "metadata": {},
   "outputs": [
    {
     "data": {
      "text/html": [
       "<div>\n",
       "<style scoped>\n",
       "    .dataframe tbody tr th:only-of-type {\n",
       "        vertical-align: middle;\n",
       "    }\n",
       "\n",
       "    .dataframe tbody tr th {\n",
       "        vertical-align: top;\n",
       "    }\n",
       "\n",
       "    .dataframe thead th {\n",
       "        text-align: right;\n",
       "    }\n",
       "</style>\n",
       "<table border=\"1\" class=\"dataframe\">\n",
       "  <thead>\n",
       "    <tr style=\"text-align: right;\">\n",
       "      <th></th>\n",
       "      <th>name</th>\n",
       "      <th>gender</th>\n",
       "      <th>nationality</th>\n",
       "    </tr>\n",
       "  </thead>\n",
       "  <tbody>\n",
       "    <tr>\n",
       "      <th>0</th>\n",
       "      <td>Aarav</td>\n",
       "      <td>Male</td>\n",
       "      <td>Indian</td>\n",
       "    </tr>\n",
       "    <tr>\n",
       "      <th>1</th>\n",
       "      <td>Aaryan</td>\n",
       "      <td>Male</td>\n",
       "      <td>Indian</td>\n",
       "    </tr>\n",
       "    <tr>\n",
       "      <th>2</th>\n",
       "      <td>Abha</td>\n",
       "      <td>Female</td>\n",
       "      <td>Indian</td>\n",
       "    </tr>\n",
       "    <tr>\n",
       "      <th>3</th>\n",
       "      <td>Abhay</td>\n",
       "      <td>Male</td>\n",
       "      <td>Indian</td>\n",
       "    </tr>\n",
       "    <tr>\n",
       "      <th>4</th>\n",
       "      <td>Abhilash</td>\n",
       "      <td>Male</td>\n",
       "      <td>Indian</td>\n",
       "    </tr>\n",
       "  </tbody>\n",
       "</table>\n",
       "</div>"
      ],
      "text/plain": [
       "       name  gender nationality\n",
       "0     Aarav    Male      Indian\n",
       "1    Aaryan    Male      Indian\n",
       "2      Abha  Female      Indian\n",
       "3     Abhay    Male      Indian\n",
       "4  Abhilash    Male      Indian"
      ]
     },
     "execution_count": 75,
     "metadata": {},
     "output_type": "execute_result"
    }
   ],
   "source": [
    "raw_data.rename(columns= {\"sex\": \"gender\"}, inplace=True)\n",
    "raw_data.head()"
   ]
  },
  {
   "cell_type": "code",
   "execution_count": 76,
   "id": "02f21e5c",
   "metadata": {},
   "outputs": [
    {
     "name": "stdout",
     "output_type": "stream",
     "text": [
      "name           0\n",
      "gender         0\n",
      "nationality    0\n",
      "dtype: int64\n"
     ]
    }
   ],
   "source": [
    "print(raw_data.isna().sum())"
   ]
  },
  {
   "cell_type": "code",
   "execution_count": 77,
   "id": "37c91bc9",
   "metadata": {},
   "outputs": [
    {
     "name": "stdout",
     "output_type": "stream",
     "text": [
      "American    1782\n",
      "Japanese     757\n",
      "French       584\n",
      "Indian       576\n",
      "African      520\n",
      "German       334\n",
      "Russian      142\n",
      "Name: nationality, dtype: int64\n"
     ]
    },
    {
     "data": {
      "text/plain": [
       "<AxesSubplot:ylabel='nationality'>"
      ]
     },
     "execution_count": 77,
     "metadata": {},
     "output_type": "execute_result"
    },
    {
     "data": {
      "image/png": "[encoded data removed]",
      "text/plain": [
       "<Figure size 500x500 with 1 Axes>"
      ]
     },
     "metadata": {},
     "output_type": "display_data"
    }
   ],
   "source": [
    "print(raw_data[\"nationality\"].value_counts())\n",
    "raw_data[\"nationality\"].value_counts().plot(kind='pie', figsize=(5,5))"
   ]
  },
  {
   "cell_type": "code",
   "execution_count": 79,
   "id": "9d22dc62",
   "metadata": {},
   "outputs": [
    {
     "name": "stdout",
     "output_type": "stream",
     "text": [
      "Female     2573\n",
      "Male       1356\n",
      "Neutral     766\n",
      "Name: gender, dtype: int64\n"
     ]
    },
    {
     "data": {
      "text/plain": [
       "<AxesSubplot:ylabel='gender'>"
      ]
     },
     "execution_count": 79,
     "metadata": {},
     "output_type": "execute_result"
    },
    {
     "data": {
      "image/png": "[encoded data removed]",
      "text/plain": [
       "<Figure size 500x500 with 1 Axes>"
      ]
     },
     "metadata": {},
     "output_type": "display_data"
    }
   ],
   "source": [
    "print(raw_data[\"gender\"].value_counts())\n",
    "raw_data[\"gender\"].value_counts().plot(kind='pie', figsize=(5,5))"
   ]
  },
  {
   "cell_type": "code",
   "execution_count": 106,
   "id": "423cdef6",
   "metadata": {},
   "outputs": [
    {
     "name": "stdout",
     "output_type": "stream",
     "text": [
      "African\n",
      "frame =  Female     236\n",
      "Male       190\n",
      "Neutral     94\n",
      "Name: gender, dtype: int64\n",
      "---\n",
      "American\n",
      "frame =  Female     1118\n",
      "Neutral     368\n",
      "Male        296\n",
      "Name: gender, dtype: int64\n",
      "---\n",
      "French\n",
      "frame =  Female     328\n",
      "Male       134\n",
      "Neutral    122\n",
      "Name: gender, dtype: int64\n",
      "---\n",
      "German\n",
      "frame =  Female     120\n",
      "Neutral     62\n",
      "Male       152\n",
      "Name: gender, dtype: int64\n",
      "---\n",
      "Indian\n",
      "frame =  Male       211\n",
      "Female     307\n",
      "Neutral     58\n",
      "Name: gender, dtype: int64\n",
      "---\n",
      "Japanese\n",
      "frame =  Female     397\n",
      "Male       310\n",
      "Neutral     50\n",
      "Name: gender, dtype: int64\n",
      "---\n",
      "Russian\n",
      "frame =  Female     67\n",
      "Male       63\n",
      "Neutral    12\n",
      "Name: gender, dtype: int64\n",
      "---\n"
     ]
    },
    {
     "data": {
      "text/html": [
       "<div>\n",
       "<style scoped>\n",
       "    .dataframe tbody tr th:only-of-type {\n",
       "        vertical-align: middle;\n",
       "    }\n",
       "\n",
       "    .dataframe tbody tr th {\n",
       "        vertical-align: top;\n",
       "    }\n",
       "\n",
       "    .dataframe thead th {\n",
       "        text-align: right;\n",
       "    }\n",
       "</style>\n",
       "<table border=\"1\" class=\"dataframe\">\n",
       "  <thead>\n",
       "    <tr style=\"text-align: right;\">\n",
       "      <th></th>\n",
       "      <th>nationality</th>\n",
       "      <th>Female</th>\n",
       "      <th>Male</th>\n",
       "      <th>Neutral</th>\n",
       "    </tr>\n",
       "  </thead>\n",
       "  <tbody>\n",
       "    <tr>\n",
       "      <th>0</th>\n",
       "      <td>African</td>\n",
       "      <td>236</td>\n",
       "      <td>190</td>\n",
       "      <td>94</td>\n",
       "    </tr>\n",
       "    <tr>\n",
       "      <th>1</th>\n",
       "      <td>American</td>\n",
       "      <td>1118</td>\n",
       "      <td>368</td>\n",
       "      <td>296</td>\n",
       "    </tr>\n",
       "    <tr>\n",
       "      <th>2</th>\n",
       "      <td>French</td>\n",
       "      <td>328</td>\n",
       "      <td>134</td>\n",
       "      <td>122</td>\n",
       "    </tr>\n",
       "    <tr>\n",
       "      <th>3</th>\n",
       "      <td>German</td>\n",
       "      <td>152</td>\n",
       "      <td>120</td>\n",
       "      <td>62</td>\n",
       "    </tr>\n",
       "    <tr>\n",
       "      <th>4</th>\n",
       "      <td>Indian</td>\n",
       "      <td>307</td>\n",
       "      <td>211</td>\n",
       "      <td>58</td>\n",
       "    </tr>\n",
       "    <tr>\n",
       "      <th>5</th>\n",
       "      <td>Japanese</td>\n",
       "      <td>397</td>\n",
       "      <td>310</td>\n",
       "      <td>50</td>\n",
       "    </tr>\n",
       "    <tr>\n",
       "      <th>6</th>\n",
       "      <td>Russian</td>\n",
       "      <td>67</td>\n",
       "      <td>63</td>\n",
       "      <td>12</td>\n",
       "    </tr>\n",
       "  </tbody>\n",
       "</table>\n",
       "</div>"
      ],
      "text/plain": [
       "  nationality  Female  Male  Neutral\n",
       "0     African     236   190       94\n",
       "1    American    1118   368      296\n",
       "2      French     328   134      122\n",
       "3      German     152   120       62\n",
       "4      Indian     307   211       58\n",
       "5    Japanese     397   310       50\n",
       "6     Russian      67    63       12"
      ]
     },
     "execution_count": 106,
     "metadata": {},
     "output_type": "execute_result"
    }
   ],
   "source": [
    "grouped = raw_data.groupby(\"nationality\")\n",
    "result = []\n",
    "for gen, group in grouped:\n",
    "    print(gen)\n",
    "    #print(group[\"gender\"].value_counts(sort=False))\n",
    "    frame = group[\"gender\"].value_counts(sort=False)\n",
    "    print(\"frame = \", frame)\n",
    "    print(\"---\")\n",
    "    result.append({\n",
    "        \"nationality\": gen, \n",
    "        \"Female\" : group[\"gender\"].value_counts().values[0],\n",
    "        \"Male\" : group[\"gender\"].value_counts().values[1],\n",
    "        \"Neutral\" : group[\"gender\"].value_counts().values[2],\n",
    "        })\n",
    "    #print(result)\n",
    "\n",
    "result_df = pd.DataFrame(result)\n",
    "result_df\n",
    "    #print(gen)\n",
    "    #print(group[\"gender\"].value_counts())\n",
    "    \n"
   ]
  },
  {
   "cell_type": "code",
   "execution_count": 107,
   "id": "d867a81d",
   "metadata": {},
   "outputs": [
    {
     "data": {
      "text/plain": [
       "<AxesSubplot:xlabel='nationality', ylabel='Count'>"
      ]
     },
     "execution_count": 107,
     "metadata": {},
     "output_type": "execute_result"
    },
    {
     "data": {
      "image/png": "[encoded data removed]",
      "text/plain": [
       "<Figure size 640x480 with 1 Axes>"
      ]
     },
     "metadata": {},
     "output_type": "display_data"
    }
   ],
   "source": [
    "sns.histplot(data=raw_data, x=\"nationality\", hue=\"gender\", multiple=\"stack\")"
   ]
  },
  {
   "cell_type": "code",
   "execution_count": null,
   "id": "02d28d6d",
   "metadata": {},
   "outputs": [],
   "source": []
  }
 ],
 "metadata": {
  "kernelspec": {
   "display_name": "Python 3.9.12 ('nam-nat-CNN-clf')",
   "language": "python",
   "name": "python3"
  },
  "language_info": {
   "codemirror_mode": {
    "name": "ipython",
    "version": 3
   },
   "file_extension": ".py",
   "mimetype": "text/x-python",
   "name": "python",
   "nbconvert_exporter": "python",
   "pygments_lexer": "ipython3",
   "version": "3.9.15"
  },
  "vscode": {
   "interpreter": {
    "hash": "e4b5f215e7873d7704b783e5deeb7bd03ff86fe6a29d6e777cd829734451072d"
   }
  }
 },
 "nbformat": 4,
 "nbformat_minor": 5
}
