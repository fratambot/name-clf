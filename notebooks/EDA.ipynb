{
 "cells": [
  {
   "cell_type": "code",
   "execution_count": 20,
   "id": "a2804beb",
   "metadata": {},
   "outputs": [
    {
     "name": "stdout",
     "output_type": "stream",
     "text": [
      "The autoreload extension is already loaded. To reload it, use:\n",
      "  %reload_ext autoreload\n"
     ]
    }
   ],
   "source": [
    "%load_ext autoreload\n",
    "%autoreload 2"
   ]
  },
  {
   "cell_type": "code",
   "execution_count": 21,
   "id": "16e25ecc",
   "metadata": {},
   "outputs": [],
   "source": [
    "import os\n",
    "import pandas as pd\n",
    "import matplotlib.pyplot as plt\n",
    "import pycountry\n",
    "import seaborn as sns\n",
    "import wandb"
   ]
  },
  {
   "cell_type": "code",
   "execution_count": 22,
   "id": "8024c8de",
   "metadata": {},
   "outputs": [],
   "source": [
    "pd.options.display.max_seq_items = 2000\n",
    "pd.options.display.max_columns = 500\n",
    "pd.options.display.max_rows = 800\n",
    "pd.options.display.max_colwidth = 200\n",
    "pd.options.display.width = 800"
   ]
  },
  {
   "cell_type": "code",
   "execution_count": 23,
   "id": "c3178e2c",
   "metadata": {},
   "outputs": [
    {
     "data": {
      "text/plain": [
       "'/Users/francesco/REPOS/name-clf/app'"
      ]
     },
     "execution_count": 23,
     "metadata": {},
     "output_type": "execute_result"
    }
   ],
   "source": [
    "os.getcwd()"
   ]
  },
  {
   "cell_type": "code",
   "execution_count": 24,
   "id": "89752538",
   "metadata": {},
   "outputs": [],
   "source": [
    "base_url = '/Users/francesco/REPOS/name-clf/app'"
   ]
  },
  {
   "cell_type": "code",
   "execution_count": 25,
   "id": "dc29bb87",
   "metadata": {},
   "outputs": [],
   "source": [
    "os.chdir(base_url)"
   ]
  },
  {
   "cell_type": "code",
   "execution_count": 26,
   "id": "ebfbabbe",
   "metadata": {},
   "outputs": [],
   "source": [
    "tag = \"Country\""
   ]
  },
  {
   "cell_type": "code",
   "execution_count": 27,
   "id": "395b9fa6",
   "metadata": {},
   "outputs": [
    {
     "data": {
      "text/html": [
       "wandb version 0.13.9 is available!  To upgrade, please run:\n",
       " $ pip install wandb --upgrade"
      ],
      "text/plain": [
       "<IPython.core.display.HTML object>"
      ]
     },
     "metadata": {},
     "output_type": "display_data"
    },
    {
     "data": {
      "text/html": [
       "Tracking run with wandb version 0.13.7"
      ],
      "text/plain": [
       "<IPython.core.display.HTML object>"
      ]
     },
     "metadata": {},
     "output_type": "display_data"
    },
    {
     "data": {
      "text/html": [
       "Run data is saved locally in <code>/Users/francesco/REPOS/name-clf/app/wandb/run-20230113_094751-l6kubwsu</code>"
      ],
      "text/plain": [
       "<IPython.core.display.HTML object>"
      ]
     },
     "metadata": {},
     "output_type": "display_data"
    },
    {
     "data": {
      "text/html": [
       "Syncing run <strong><a href=\"https://wandb.ai/fratambot/Country-clf/runs/l6kubwsu\" target=\"_blank\">exalted-spaceship-12</a></strong> to <a href=\"https://wandb.ai/fratambot/Country-clf\" target=\"_blank\">Weights & Biases</a> (<a href=\"https://wandb.me/run\" target=\"_blank\">docs</a>)<br/>"
      ],
      "text/plain": [
       "<IPython.core.display.HTML object>"
      ]
     },
     "metadata": {},
     "output_type": "display_data"
    },
    {
     "name": "stderr",
     "output_type": "stream",
     "text": [
      "\u001b[34m\u001b[1mwandb\u001b[0m:   1 of 1 files downloaded.  \n"
     ]
    },
    {
     "name": "stdout",
     "output_type": "stream",
     "text": [
      "./artifacts/raw-data:v1\n",
      "(8000, 3)\n"
     ]
    },
    {
     "data": {
      "text/html": [
       "Waiting for W&B process to finish... <strong style=\"color:green\">(success).</strong>"
      ],
      "text/plain": [
       "<IPython.core.display.HTML object>"
      ]
     },
     "metadata": {},
     "output_type": "display_data"
    },
    {
     "data": {
      "text/html": [
       "Synced <strong style=\"color:#cdcd00\">exalted-spaceship-12</strong>: <a href=\"https://wandb.ai/fratambot/Country-clf/runs/l6kubwsu\" target=\"_blank\">https://wandb.ai/fratambot/Country-clf/runs/l6kubwsu</a><br/>Synced 5 W&B file(s), 0 media file(s), 0 artifact file(s) and 0 other file(s)"
      ],
      "text/plain": [
       "<IPython.core.display.HTML object>"
      ]
     },
     "metadata": {},
     "output_type": "display_data"
    },
    {
     "data": {
      "text/html": [
       "Find logs at: <code>./wandb/run-20230113_094751-l6kubwsu/logs</code>"
      ],
      "text/plain": [
       "<IPython.core.display.HTML object>"
      ]
     },
     "metadata": {},
     "output_type": "display_data"
    }
   ],
   "source": [
    "wandb.login()\n",
    "PROJECT_NAME = f\"{tag}-clf\"\n",
    "raw_data_filename = \"raw-data\"\n",
    "with wandb.init(project=PROJECT_NAME, job_type=\"load-in-notebook\") as run:\n",
    "    artifact = run.use_artifact(raw_data_filename+\":latest\")\n",
    "    artifact_dir = artifact.download()\n",
    "    print(artifact_dir)\n",
    "    data = pd.read_parquet(os.path.join(artifact_dir, raw_data_filename+\".parquet.gzip\"))\n",
    "    print(data.shape)"
   ]
  },
  {
   "cell_type": "code",
   "execution_count": 28,
   "id": "95300120",
   "metadata": {},
   "outputs": [
    {
     "data": {
      "text/html": [
       "<div>\n",
       "<style scoped>\n",
       "    .dataframe tbody tr th:only-of-type {\n",
       "        vertical-align: middle;\n",
       "    }\n",
       "\n",
       "    .dataframe tbody tr th {\n",
       "        vertical-align: top;\n",
       "    }\n",
       "\n",
       "    .dataframe thead th {\n",
       "        text-align: right;\n",
       "    }\n",
       "</style>\n",
       "<table border=\"1\" class=\"dataframe\">\n",
       "  <thead>\n",
       "    <tr style=\"text-align: right;\">\n",
       "      <th></th>\n",
       "      <th>Name</th>\n",
       "      <th>Country</th>\n",
       "      <th>Gender</th>\n",
       "    </tr>\n",
       "  </thead>\n",
       "  <tbody>\n",
       "    <tr>\n",
       "      <th>0</th>\n",
       "      <td>Jose</td>\n",
       "      <td>Spain</td>\n",
       "      <td>Male</td>\n",
       "    </tr>\n",
       "    <tr>\n",
       "      <th>1</th>\n",
       "      <td>Antonio</td>\n",
       "      <td>Spain</td>\n",
       "      <td>Male</td>\n",
       "    </tr>\n",
       "    <tr>\n",
       "      <th>2</th>\n",
       "      <td>Juan</td>\n",
       "      <td>Spain</td>\n",
       "      <td>Male</td>\n",
       "    </tr>\n",
       "    <tr>\n",
       "      <th>3</th>\n",
       "      <td>Manuel</td>\n",
       "      <td>Spain</td>\n",
       "      <td>Male</td>\n",
       "    </tr>\n",
       "    <tr>\n",
       "      <th>4</th>\n",
       "      <td>David</td>\n",
       "      <td>Spain</td>\n",
       "      <td>Male</td>\n",
       "    </tr>\n",
       "  </tbody>\n",
       "</table>\n",
       "</div>"
      ],
      "text/plain": [
       "      Name Country Gender\n",
       "0     Jose   Spain   Male\n",
       "1  Antonio   Spain   Male\n",
       "2     Juan   Spain   Male\n",
       "3   Manuel   Spain   Male\n",
       "4    David   Spain   Male"
      ]
     },
     "execution_count": 28,
     "metadata": {},
     "output_type": "execute_result"
    }
   ],
   "source": [
    "data.head()"
   ]
  },
  {
   "cell_type": "code",
   "execution_count": 29,
   "id": "04d00f6f",
   "metadata": {},
   "outputs": [
    {
     "name": "stdout",
     "output_type": "stream",
     "text": [
      "Name       0\n",
      "Country    0\n",
      "Gender     0\n",
      "dtype: int64\n"
     ]
    }
   ],
   "source": [
    "print(data.isna().sum())"
   ]
  },
  {
   "cell_type": "code",
   "execution_count": 30,
   "id": "953122bd",
   "metadata": {},
   "outputs": [
    {
     "name": "stdout",
     "output_type": "stream",
     "text": [
      "Male      4000\n",
      "Female    4000\n",
      "Name: Gender, dtype: int64\n"
     ]
    },
    {
     "data": {
      "text/plain": [
       "<AxesSubplot:ylabel='Gender'>"
      ]
     },
     "execution_count": 30,
     "metadata": {},
     "output_type": "execute_result"
    },
    {
     "data": {
      "image/png": "[encoded data removed]",
      "text/plain": [
       "<Figure size 500x500 with 1 Axes>"
      ]
     },
     "metadata": {},
     "output_type": "display_data"
    }
   ],
   "source": [
    "print(data[\"Gender\"].value_counts())\n",
    "data[\"Gender\"].value_counts().plot(kind='pie', figsize=(5,5))"
   ]
  },
  {
   "cell_type": "code",
   "execution_count": 31,
   "id": "b6b0b26d",
   "metadata": {},
   "outputs": [
    {
     "name": "stdout",
     "output_type": "stream",
     "text": [
      "Spain    4000\n",
      "Italy    4000\n",
      "Name: Country, dtype: int64\n"
     ]
    },
    {
     "data": {
      "text/plain": [
       "<AxesSubplot:ylabel='Country'>"
      ]
     },
     "execution_count": 31,
     "metadata": {},
     "output_type": "execute_result"
    },
    {
     "data": {
      "image/png": "[encoded data removed]",
      "text/plain": [
       "<Figure size 500x500 with 1 Axes>"
      ]
     },
     "metadata": {},
     "output_type": "display_data"
    }
   ],
   "source": [
    "print(data[\"Country\"].value_counts())\n",
    "data[\"Country\"].value_counts().plot(kind='pie', figsize=(5,5))"
   ]
  },
  {
   "cell_type": "code",
   "execution_count": 32,
   "id": "d6aa2144",
   "metadata": {},
   "outputs": [
    {
     "name": "stdout",
     "output_type": "stream",
     "text": [
      "Italy\n",
      "frame =  Male      2000\n",
      "Female    2000\n",
      "Name: Gender, dtype: int64\n",
      "---\n",
      "Spain\n",
      "frame =  Male      2000\n",
      "Female    2000\n",
      "Name: Gender, dtype: int64\n",
      "---\n"
     ]
    },
    {
     "data": {
      "text/html": [
       "<div>\n",
       "<style scoped>\n",
       "    .dataframe tbody tr th:only-of-type {\n",
       "        vertical-align: middle;\n",
       "    }\n",
       "\n",
       "    .dataframe tbody tr th {\n",
       "        vertical-align: top;\n",
       "    }\n",
       "\n",
       "    .dataframe thead th {\n",
       "        text-align: right;\n",
       "    }\n",
       "</style>\n",
       "<table border=\"1\" class=\"dataframe\">\n",
       "  <thead>\n",
       "    <tr style=\"text-align: right;\">\n",
       "      <th></th>\n",
       "      <th>Country</th>\n",
       "      <th>Female</th>\n",
       "      <th>Male</th>\n",
       "    </tr>\n",
       "  </thead>\n",
       "  <tbody>\n",
       "    <tr>\n",
       "      <th>0</th>\n",
       "      <td>Italy</td>\n",
       "      <td>2000</td>\n",
       "      <td>2000</td>\n",
       "    </tr>\n",
       "    <tr>\n",
       "      <th>1</th>\n",
       "      <td>Spain</td>\n",
       "      <td>2000</td>\n",
       "      <td>2000</td>\n",
       "    </tr>\n",
       "  </tbody>\n",
       "</table>\n",
       "</div>"
      ],
      "text/plain": [
       "  Country  Female  Male\n",
       "0   Italy    2000  2000\n",
       "1   Spain    2000  2000"
      ]
     },
     "execution_count": 32,
     "metadata": {},
     "output_type": "execute_result"
    }
   ],
   "source": [
    "grouped = data.groupby(\"Country\")\n",
    "result = []\n",
    "for gen, group in grouped:\n",
    "    print(gen)\n",
    "    #print(group[\"gender\"].value_counts(sort=False))\n",
    "    frame = group[\"Gender\"].value_counts(sort=False)\n",
    "    print(\"frame = \", frame)\n",
    "    print(\"---\")\n",
    "    result.append({\n",
    "        \"Country\": gen, \n",
    "        \"Female\" : group[\"Gender\"].value_counts().values[0],\n",
    "        \"Male\" : group[\"Gender\"].value_counts().values[1],\n",
    "        #\"Neutral\" : group[\"Gender\"].value_counts().values[2],\n",
    "        })\n",
    "    #print(result)\n",
    "\n",
    "result_df = pd.DataFrame(result)\n",
    "result_df\n",
    "    #print(gen)\n",
    "    #print(group[\"gender\"].value_counts())\n",
    "    "
   ]
  },
  {
   "cell_type": "code",
   "execution_count": 33,
   "id": "62ba29b5",
   "metadata": {},
   "outputs": [
    {
     "data": {
      "text/plain": [
       "<AxesSubplot:xlabel='Country', ylabel='Count'>"
      ]
     },
     "execution_count": 33,
     "metadata": {},
     "output_type": "execute_result"
    },
    {
     "data": {
      "image/png": "[encoded data removed]",
      "text/plain": [
       "<Figure size 640x480 with 1 Axes>"
      ]
     },
     "metadata": {},
     "output_type": "display_data"
    }
   ],
   "source": [
    "sns.histplot(data=data, x=\"Country\", hue=\"Gender\", multiple=\"stack\")"
   ]
  },
  {
   "cell_type": "code",
   "execution_count": 36,
   "id": "949094d9",
   "metadata": {},
   "outputs": [
    {
     "name": "stdout",
     "output_type": "stream",
     "text": [
      "2342\n",
      "         Name Country  Gender\n",
      "1     Antonio   Spain    Male\n",
      "3      Manuel   Spain    Male\n",
      "4       David   Spain    Male\n",
      "11     Daniel   Spain    Male\n",
      "12     Sergio   Spain    Male\n",
      "...       ...     ...     ...\n",
      "7988     Pepi   Italy  Female\n",
      "7989    Marga   Italy  Female\n",
      "7991     Feli   Italy  Female\n",
      "7996   Isaura   Italy  Female\n",
      "7999     Nely   Italy  Female\n",
      "\n",
      "[2342 rows x 3 columns]\n"
     ]
    }
   ],
   "source": [
    "dups = data[data.duplicated(subset=[\"Name\"], keep=False)]\n",
    "print(len(dups))\n",
    "print(dups)"
   ]
  },
  {
   "cell_type": "code",
   "execution_count": null,
   "id": "aa3c90fb",
   "metadata": {},
   "outputs": [],
   "source": []
  }
 ],
 "metadata": {
  "kernelspec": {
   "display_name": "name-clf",
   "language": "python",
   "name": "python3"
  },
  "language_info": {
   "codemirror_mode": {
    "name": "ipython",
    "version": 3
   },
   "file_extension": ".py",
   "mimetype": "text/x-python",
   "name": "python",
   "nbconvert_exporter": "python",
   "pygments_lexer": "ipython3",
   "version": "3.9.15"
  },
  "vscode": {
   "interpreter": {
    "hash": "f5978f2f5b0a3ef0276425fba9a2a1232fa2fd501b13661a316074abcd0552b5"
   }
  }
 },
 "nbformat": 4,
 "nbformat_minor": 5
}
