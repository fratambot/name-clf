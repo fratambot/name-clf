{
 "cells": [
  {
   "cell_type": "code",
   "execution_count": 1,
   "metadata": {},
   "outputs": [],
   "source": [
    "%load_ext autoreload\n",
    "%autoreload 2"
   ]
  },
  {
   "cell_type": "code",
   "execution_count": 2,
   "metadata": {},
   "outputs": [
    {
     "name": "stderr",
     "output_type": "stream",
     "text": [
      "2023-01-06 14:33:40.282054: I tensorflow/core/platform/cpu_feature_guard.cc:193] This TensorFlow binary is optimized with oneAPI Deep Neural Network Library (oneDNN) to use the following CPU instructions in performance-critical operations:  AVX2 FMA\n",
      "To enable them in other operations, rebuild TensorFlow with the appropriate compiler flags.\n"
     ]
    }
   ],
   "source": [
    "#import json\n",
    "import math\n",
    "import matplotlib.pyplot as plt\n",
    "import numpy as np\n",
    "import os\n",
    "import pandas as pd\n",
    "import pickle\n",
    "#import seaborn as sns\n",
    "\n",
    "import keras_tuner\n",
    "import tensorflow as tf\n",
    "import tensorflow.keras.layers as tfl\n",
    "\n",
    "from sklearn.metrics import confusion_matrix, classification_report"
   ]
  },
  {
   "cell_type": "code",
   "execution_count": 3,
   "metadata": {},
   "outputs": [],
   "source": [
    "pd.options.display.max_seq_items = 2000\n",
    "pd.options.display.max_columns = 500\n",
    "pd.options.display.max_rows = 800\n",
    "pd.options.display.max_colwidth = 200\n",
    "pd.options.display.width = 800"
   ]
  },
  {
   "cell_type": "code",
   "execution_count": 4,
   "metadata": {},
   "outputs": [],
   "source": [
    "base_url = '/Users/francesco/REPOS/nam-nat-CNN-clf/app'\n",
    "os.chdir(base_url)"
   ]
  },
  {
   "cell_type": "code",
   "execution_count": 5,
   "metadata": {},
   "outputs": [],
   "source": [
    "from models.hypermodel import hyperband_tuner, model"
   ]
  },
  {
   "attachments": {},
   "cell_type": "markdown",
   "metadata": {},
   "source": [
    "### Load artifacts"
   ]
  },
  {
   "cell_type": "code",
   "execution_count": 6,
   "metadata": {},
   "outputs": [
    {
     "name": "stdout",
     "output_type": "stream",
     "text": [
      "(3990, 16)\n",
      "(705, 16)\n"
     ]
    }
   ],
   "source": [
    "with np.load(os.path.join(base_url, \"artifacts/training_data\", \"nationality_data.npz\"), allow_pickle=True) as f:\n",
    "    x_train, y_train = f[\"x_train\"], f[\"y_train\"]\n",
    "    x_val, y_val = f[\"x_val\"], f[\"y_val\"]\n",
    "    \n",
    "print(x_train.shape)\n",
    "print(x_val.shape)"
   ]
  },
  {
   "cell_type": "code",
   "execution_count": 7,
   "metadata": {},
   "outputs": [],
   "source": [
    "with open(os.path.join(base_url, \"artifacts/training_data\", \"nationality_tokenizer.pkl\"), \"rb\") as f:\n",
    "    tokenizer = pickle.load(f)"
   ]
  },
  {
   "attachments": {},
   "cell_type": "markdown",
   "metadata": {},
   "source": [
    "### Build model"
   ]
  },
  {
   "cell_type": "code",
   "execution_count": 8,
   "metadata": {},
   "outputs": [
    {
     "name": "stdout",
     "output_type": "stream",
     "text": [
      "embedding_size =  33\n",
      "metrics =  [<keras.metrics.metrics.CategoricalAccuracy object at 0x7fcb0f444eb0>]\n",
      "softmax_units =  7\n",
      "input_shape =  16\n"
     ]
    },
    {
     "name": "stderr",
     "output_type": "stream",
     "text": [
      "2023-01-06 14:33:46.167122: I tensorflow/core/platform/cpu_feature_guard.cc:193] This TensorFlow binary is optimized with oneAPI Deep Neural Network Library (oneDNN) to use the following CPU instructions in performance-critical operations:  AVX2 FMA\n",
      "To enable them in other operations, rebuild TensorFlow with the appropriate compiler flags.\n"
     ]
    }
   ],
   "source": [
    "# Params\n",
    "embedding_size = len(tokenizer.word_index)\n",
    "print(\"embedding_size = \", embedding_size)\n",
    "metrics = [tf.keras.metrics.CategoricalAccuracy()]\n",
    "print(\"metrics = \", metrics)\n",
    "softmax_units = y_train.shape[1]\n",
    "print(\"softmax_units = \", softmax_units)\n",
    "input_shape = x_train.shape[1]\n",
    "print(\"input_shape = \", input_shape)"
   ]
  },
  {
   "cell_type": "code",
   "execution_count": 9,
   "metadata": {},
   "outputs": [],
   "source": [
    "# Batch data\n",
    "train_dataset = tf.data.Dataset.from_tensor_slices((x_train, y_train)).batch(64)\n",
    "val_dataset = tf.data.Dataset.from_tensor_slices((x_val, y_val)).batch(64)"
   ]
  },
  {
   "attachments": {},
   "cell_type": "markdown",
   "metadata": {},
   "source": [
    "### Single model"
   ]
  },
  {
   "cell_type": "code",
   "execution_count": 49,
   "metadata": {},
   "outputs": [
    {
     "name": "stdout",
     "output_type": "stream",
     "text": [
      "16\n"
     ]
    }
   ],
   "source": [
    "my_model = model(input_shape, metrics, softmax_units, embedding_size)"
   ]
  },
  {
   "cell_type": "code",
   "execution_count": 50,
   "metadata": {},
   "outputs": [
    {
     "name": "stdout",
     "output_type": "stream",
     "text": [
      "Model: \"sequential_10\"\n",
      "_________________________________________________________________\n",
      " Layer (type)                Output Shape              Param #   \n",
      "=================================================================\n",
      " embedding_10 (Embedding)    (None, 16, 33)            1122      \n",
      "                                                                 \n",
      " conv1d_14 (Conv1D)          (None, 10, 16)            3712      \n",
      "                                                                 \n",
      " conv1d_15 (Conv1D)          (None, 6, 16)             1296      \n",
      "                                                                 \n",
      " conv1d_16 (Conv1D)          (None, 4, 16)             784       \n",
      "                                                                 \n",
      " flatten_9 (Flatten)         (None, 64)                0         \n",
      "                                                                 \n",
      " dense_20 (Dense)            (None, 64)                4160      \n",
      "                                                                 \n",
      " dense_21 (Dense)            (None, 128)               8320      \n",
      "                                                                 \n",
      " dense_22 (Dense)            (None, 7)                 903       \n",
      "                                                                 \n",
      "=================================================================\n",
      "Total params: 20,297\n",
      "Trainable params: 20,297\n",
      "Non-trainable params: 0\n",
      "_________________________________________________________________\n"
     ]
    }
   ],
   "source": [
    "my_model.summary()"
   ]
  },
  {
   "cell_type": "code",
   "execution_count": 51,
   "metadata": {},
   "outputs": [
    {
     "name": "stdout",
     "output_type": "stream",
     "text": [
      "Epoch 1/30\n",
      "63/63 [==============================] - 3s 12ms/step - loss: 1.6622 - categorical_accuracy: 0.4260 - val_loss: 1.4285 - val_categorical_accuracy: 0.4738\n",
      "Epoch 2/30\n",
      "63/63 [==============================] - 0s 7ms/step - loss: 1.3281 - categorical_accuracy: 0.4990 - val_loss: 1.2763 - val_categorical_accuracy: 0.5362\n",
      "Epoch 3/30\n",
      "63/63 [==============================] - 0s 6ms/step - loss: 1.2454 - categorical_accuracy: 0.5336 - val_loss: 1.2385 - val_categorical_accuracy: 0.5504\n",
      "Epoch 4/30\n",
      "63/63 [==============================] - 0s 7ms/step - loss: 1.1844 - categorical_accuracy: 0.5559 - val_loss: 1.2348 - val_categorical_accuracy: 0.5589\n",
      "Epoch 5/30\n",
      "63/63 [==============================] - 1s 11ms/step - loss: 1.1517 - categorical_accuracy: 0.5684 - val_loss: 1.1909 - val_categorical_accuracy: 0.5702\n",
      "Epoch 6/30\n",
      "63/63 [==============================] - 1s 15ms/step - loss: 1.1310 - categorical_accuracy: 0.5779 - val_loss: 1.1744 - val_categorical_accuracy: 0.5759\n",
      "Epoch 7/30\n",
      "63/63 [==============================] - 1s 8ms/step - loss: 1.1015 - categorical_accuracy: 0.5885 - val_loss: 1.1439 - val_categorical_accuracy: 0.5915\n",
      "Epoch 8/30\n",
      "63/63 [==============================] - 0s 7ms/step - loss: 1.0625 - categorical_accuracy: 0.5992 - val_loss: 1.1968 - val_categorical_accuracy: 0.5546\n",
      "Epoch 9/30\n",
      "63/63 [==============================] - 0s 8ms/step - loss: 1.0457 - categorical_accuracy: 0.6103 - val_loss: 1.1698 - val_categorical_accuracy: 0.5801\n",
      "Epoch 10/30\n",
      "63/63 [==============================] - 0s 7ms/step - loss: 1.0267 - categorical_accuracy: 0.6103 - val_loss: 1.1625 - val_categorical_accuracy: 0.5674\n",
      "Epoch 11/30\n",
      "63/63 [==============================] - 0s 7ms/step - loss: 0.9809 - categorical_accuracy: 0.6286 - val_loss: 1.1344 - val_categorical_accuracy: 0.5688\n",
      "Epoch 12/30\n",
      "63/63 [==============================] - 0s 7ms/step - loss: 0.9546 - categorical_accuracy: 0.6421 - val_loss: 1.2765 - val_categorical_accuracy: 0.5589\n",
      "Epoch 13/30\n",
      "63/63 [==============================] - 0s 7ms/step - loss: 0.9622 - categorical_accuracy: 0.6326 - val_loss: 1.2136 - val_categorical_accuracy: 0.5688\n",
      "Epoch 14/30\n",
      "63/63 [==============================] - 0s 7ms/step - loss: 0.9280 - categorical_accuracy: 0.6584 - val_loss: 1.2142 - val_categorical_accuracy: 0.5745\n",
      "Epoch 15/30\n",
      "63/63 [==============================] - 0s 7ms/step - loss: 0.9067 - categorical_accuracy: 0.6602 - val_loss: 1.2721 - val_categorical_accuracy: 0.5716\n",
      "Epoch 16/30\n",
      "63/63 [==============================] - 0s 6ms/step - loss: 0.9062 - categorical_accuracy: 0.6612 - val_loss: 1.2506 - val_categorical_accuracy: 0.5816\n",
      "Epoch 17/30\n",
      "63/63 [==============================] - 0s 7ms/step - loss: 0.8957 - categorical_accuracy: 0.6737 - val_loss: 1.3325 - val_categorical_accuracy: 0.5433\n",
      "Epoch 18/30\n",
      "63/63 [==============================] - 0s 7ms/step - loss: 0.8675 - categorical_accuracy: 0.6832 - val_loss: 1.2099 - val_categorical_accuracy: 0.5518\n",
      "Epoch 19/30\n",
      "63/63 [==============================] - 1s 9ms/step - loss: 0.8590 - categorical_accuracy: 0.6747 - val_loss: 1.2956 - val_categorical_accuracy: 0.5433\n",
      "Epoch 20/30\n",
      "63/63 [==============================] - 1s 8ms/step - loss: 0.8559 - categorical_accuracy: 0.6797 - val_loss: 1.3082 - val_categorical_accuracy: 0.5759\n",
      "Epoch 21/30\n",
      "63/63 [==============================] - 0s 8ms/step - loss: 0.8320 - categorical_accuracy: 0.6927 - val_loss: 1.3453 - val_categorical_accuracy: 0.5489\n",
      "Epoch 22/30\n",
      "63/63 [==============================] - 0s 8ms/step - loss: 0.8142 - categorical_accuracy: 0.6952 - val_loss: 1.3813 - val_categorical_accuracy: 0.5858\n",
      "Epoch 23/30\n",
      "63/63 [==============================] - 1s 8ms/step - loss: 0.8208 - categorical_accuracy: 0.6922 - val_loss: 1.3025 - val_categorical_accuracy: 0.5773\n",
      "Epoch 24/30\n",
      "63/63 [==============================] - 0s 7ms/step - loss: 0.7873 - categorical_accuracy: 0.7068 - val_loss: 1.4261 - val_categorical_accuracy: 0.5532\n",
      "Epoch 25/30\n",
      "63/63 [==============================] - 1s 8ms/step - loss: 0.7573 - categorical_accuracy: 0.7178 - val_loss: 1.3261 - val_categorical_accuracy: 0.5716\n",
      "Epoch 26/30\n",
      "63/63 [==============================] - 0s 7ms/step - loss: 0.7506 - categorical_accuracy: 0.7286 - val_loss: 1.4106 - val_categorical_accuracy: 0.5702\n",
      "Epoch 27/30\n",
      "63/63 [==============================] - 0s 6ms/step - loss: 0.7653 - categorical_accuracy: 0.7175 - val_loss: 1.4440 - val_categorical_accuracy: 0.5745\n",
      "Epoch 28/30\n",
      "63/63 [==============================] - 1s 9ms/step - loss: 0.7652 - categorical_accuracy: 0.7120 - val_loss: 1.5528 - val_categorical_accuracy: 0.5631\n",
      "Epoch 29/30\n",
      "63/63 [==============================] - 0s 7ms/step - loss: 0.7568 - categorical_accuracy: 0.7211 - val_loss: 1.4352 - val_categorical_accuracy: 0.5617\n",
      "Epoch 30/30\n",
      "63/63 [==============================] - 0s 8ms/step - loss: 0.7652 - categorical_accuracy: 0.7231 - val_loss: 1.3781 - val_categorical_accuracy: 0.5688\n"
     ]
    }
   ],
   "source": [
    "history=my_model.fit(x_train, y_train, epochs=30, batch_size=64,verbose = 1,validation_data=(x_val,y_val))"
   ]
  },
  {
   "cell_type": "code",
   "execution_count": null,
   "metadata": {},
   "outputs": [],
   "source": []
  },
  {
   "cell_type": "code",
   "execution_count": 18,
   "metadata": {},
   "outputs": [],
   "source": [
    "project_name = \"tuning_nationality\"\n",
    "directory = \"logs/nat_hpt\"\n",
    "tuner = hyperband_tuner(input_shape, metrics, softmax_units, embedding_size, project_name, directory)"
   ]
  },
  {
   "cell_type": "code",
   "execution_count": 19,
   "metadata": {},
   "outputs": [
    {
     "name": "stdout",
     "output_type": "stream",
     "text": [
      "Search space summary\n",
      "Default search space size: 5\n",
      "dropout_1 (Float)\n",
      "{'default': 0.3, 'conditions': [], 'min_value': 0.0, 'max_value': 0.5, 'step': 0.1, 'sampling': None}\n",
      "dense_units_1 (Choice)\n",
      "{'default': 64, 'conditions': [], 'values': [64, 128, 256], 'ordered': True}\n",
      "dropout_2 (Float)\n",
      "{'default': 0.5, 'conditions': [], 'min_value': 0.0, 'max_value': 0.5, 'step': 0.1, 'sampling': None}\n",
      "dense_units_2 (Choice)\n",
      "{'default': 64, 'conditions': [], 'values': [64, 128, 256], 'ordered': True}\n",
      "lr (Float)\n",
      "{'default': 0.0001, 'conditions': [], 'min_value': 0.0001, 'max_value': 0.01, 'step': None, 'sampling': 'log'}\n"
     ]
    }
   ],
   "source": [
    "tuner.search_space_summary(extended=True)"
   ]
  },
  {
   "attachments": {},
   "cell_type": "markdown",
   "metadata": {},
   "source": [
    "### Tuning"
   ]
  },
  {
   "cell_type": "code",
   "execution_count": 20,
   "metadata": {},
   "outputs": [
    {
     "name": "stdout",
     "output_type": "stream",
     "text": [
      "logs/tb_nat_hpt\n"
     ]
    }
   ],
   "source": [
    "hpt_dir = \"logs/tb_nat_hpt\"\n",
    "fit_dir = \"logs/tb_nat_fit\"\n",
    "print(hpt_dir)\n",
    "tensorboard_callback_htp = tf.keras.callbacks.TensorBoard(log_dir=hpt_dir, histogram_freq=1)\n",
    "tensorboard_callback_fit = tf.keras.callbacks.TensorBoard(log_dir=fit_dir, histogram_freq=1)"
   ]
  },
  {
   "cell_type": "code",
   "execution_count": 21,
   "metadata": {},
   "outputs": [
    {
     "name": "stdout",
     "output_type": "stream",
     "text": [
      "The tensorboard extension is already loaded. To reload it, use:\n",
      "  %reload_ext tensorboard\n"
     ]
    }
   ],
   "source": [
    "%load_ext tensorboard"
   ]
  },
  {
   "cell_type": "code",
   "execution_count": 22,
   "metadata": {},
   "outputs": [
    {
     "name": "stdout",
     "output_type": "stream",
     "text": [
      "Estimated trials:  43.92810535176964\n"
     ]
    }
   ],
   "source": [
    "# Estimated trials simulation:\n",
    "sim_max_epochs = 10\n",
    "sim_iterations = 1\n",
    "sim_factor = 3\n",
    "est_trials = sim_iterations*sim_max_epochs*(math.log(sim_max_epochs, sim_factor))**2\n",
    "print(\"Estimated trials: \", est_trials)"
   ]
  },
  {
   "cell_type": "code",
   "execution_count": 23,
   "metadata": {},
   "outputs": [
    {
     "name": "stdout",
     "output_type": "stream",
     "text": [
      "Trial 90 Complete [00h 00m 35s]\n",
      "val_loss: 1.0847415924072266\n",
      "\n",
      "Best val_loss So Far: 1.0360156297683716\n",
      "Total elapsed time: 00h 19m 06s\n",
      "INFO:tensorflow:Oracle triggered exit\n"
     ]
    }
   ],
   "source": [
    "tuner.search(\n",
    "    train_dataset,\n",
    "    validation_data=val_dataset,\n",
    "    callbacks=[tensorboard_callback_htp, tf.keras.callbacks.EarlyStopping(monitor='val_loss', patience=10)]\n",
    ")"
   ]
  },
  {
   "cell_type": "code",
   "execution_count": 24,
   "metadata": {},
   "outputs": [
    {
     "name": "stdout",
     "output_type": "stream",
     "text": [
      "Results summary\n",
      "Results in logs/nat_hpt/tuning_nationality\n",
      "Showing 3 best trials\n",
      "<keras_tuner.engine.objective.Objective object at 0x7fcaf3ca0ca0>\n",
      "Trial summary\n",
      "Hyperparameters:\n",
      "dropout_1: 0.2\n",
      "dense_units_1: 64\n",
      "dropout_2: 0.30000000000000004\n",
      "dense_units_2: 256\n",
      "lr: 0.006284284551992185\n",
      "tuner/epochs: 30\n",
      "tuner/initial_epoch: 10\n",
      "tuner/bracket: 3\n",
      "tuner/round: 3\n",
      "tuner/trial_id: 0049\n",
      "Score: 1.0360156297683716\n",
      "Trial summary\n",
      "Hyperparameters:\n",
      "dropout_1: 0.2\n",
      "dense_units_1: 128\n",
      "dropout_2: 0.5\n",
      "dense_units_2: 64\n",
      "lr: 0.004080390057565442\n",
      "tuner/epochs: 30\n",
      "tuner/initial_epoch: 0\n",
      "tuner/bracket: 0\n",
      "tuner/round: 0\n",
      "Score: 1.0475938320159912\n",
      "Trial summary\n",
      "Hyperparameters:\n",
      "dropout_1: 0.2\n",
      "dense_units_1: 64\n",
      "dropout_2: 0.4\n",
      "dense_units_2: 256\n",
      "lr: 0.0021997896716484436\n",
      "tuner/epochs: 30\n",
      "tuner/initial_epoch: 10\n",
      "tuner/bracket: 2\n",
      "tuner/round: 2\n",
      "tuner/trial_id: 0067\n",
      "Score: 1.0526775121688843\n"
     ]
    }
   ],
   "source": [
    "tuner.results_summary(3)"
   ]
  },
  {
   "cell_type": "code",
   "execution_count": null,
   "metadata": {},
   "outputs": [],
   "source": [
    "%tensorboard --logdir $hpt_dir"
   ]
  },
  {
   "cell_type": "code",
   "execution_count": 25,
   "metadata": {},
   "outputs": [
    {
     "name": "stdout",
     "output_type": "stream",
     "text": [
      "Model: \"sequential_1\"\n",
      "_________________________________________________________________\n",
      " Layer (type)                Output Shape              Param #   \n",
      "=================================================================\n",
      " embedding_1 (Embedding)     (None, 16, 33)            1122      \n",
      "                                                                 \n",
      " conv1d_1 (Conv1D)           (None, 10, 16)            3712      \n",
      "                                                                 \n",
      " max_pooling1d_1 (MaxPooling  (None, 5, 16)            0         \n",
      " 1D)                                                             \n",
      "                                                                 \n",
      " dropout_2 (Dropout)         (None, 5, 16)             0         \n",
      "                                                                 \n",
      " lstm_1 (LSTM)               (None, 5, 8)              800       \n",
      "                                                                 \n",
      " flatten_1 (Flatten)         (None, 40)                0         \n",
      "                                                                 \n",
      " dense_3 (Dense)             (None, 64)                2624      \n",
      "                                                                 \n",
      " dropout_3 (Dropout)         (None, 64)                0         \n",
      "                                                                 \n",
      " dense_4 (Dense)             (None, 256)               16640     \n",
      "                                                                 \n",
      " dense_5 (Dense)             (None, 7)                 1799      \n",
      "                                                                 \n",
      "=================================================================\n",
      "Total params: 26,697\n",
      "Trainable params: 26,697\n",
      "Non-trainable params: 0\n",
      "_________________________________________________________________\n",
      "None\n"
     ]
    }
   ],
   "source": [
    "best_hps = tuner.get_best_hyperparameters()[0]\n",
    "best_model = tuner.hypermodel.build(best_hps)\n",
    "print(best_model.summary())"
   ]
  },
  {
   "cell_type": "code",
   "execution_count": null,
   "metadata": {},
   "outputs": [],
   "source": []
  }
 ],
 "metadata": {
  "kernelspec": {
   "display_name": "nam-nat-CNN-clf",
   "language": "python",
   "name": "python3"
  },
  "language_info": {
   "codemirror_mode": {
    "name": "ipython",
    "version": 3
   },
   "file_extension": ".py",
   "mimetype": "text/x-python",
   "name": "python",
   "nbconvert_exporter": "python",
   "pygments_lexer": "ipython3",
   "version": "3.9.15 (main, Nov 24 2022, 08:29:02) \n[Clang 14.0.6 ]"
  },
  "orig_nbformat": 4,
  "vscode": {
   "interpreter": {
    "hash": "e4b5f215e7873d7704b783e5deeb7bd03ff86fe6a29d6e777cd829734451072d"
   }
  }
 },
 "nbformat": 4,
 "nbformat_minor": 2
}
