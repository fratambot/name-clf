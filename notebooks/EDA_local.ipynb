{
 "cells": [
  {
   "cell_type": "code",
   "execution_count": 84,
   "id": "a2804beb",
   "metadata": {},
   "outputs": [
    {
     "name": "stdout",
     "output_type": "stream",
     "text": [
      "The autoreload extension is already loaded. To reload it, use:\n",
      "  %reload_ext autoreload\n"
     ]
    }
   ],
   "source": [
    "%load_ext autoreload\n",
    "%autoreload 2"
   ]
  },
  {
   "cell_type": "code",
   "execution_count": 85,
   "id": "16e25ecc",
   "metadata": {},
   "outputs": [],
   "source": [
    "import dask.dataframe as dd\n",
    "import os\n",
    "import matplotlib.pyplot as plt\n",
    "import pycountry\n",
    "import seaborn as sns\n",
    "\n",
    "from names_dataset import NameDataset\n",
    "from dask.distributed import Client"
   ]
  },
  {
   "cell_type": "code",
   "execution_count": 86,
   "id": "68fd158e",
   "metadata": {},
   "outputs": [
    {
     "name": "stderr",
     "output_type": "stream",
     "text": [
      "/Users/francesco/opt/miniconda3/envs/name-clf/lib/python3.9/site-packages/distributed/node.py:182: UserWarning: Port 8787 is already in use.\n",
      "Perhaps you already have a cluster running?\n",
      "Hosting the HTTP server on port 57915 instead\n",
      "  warnings.warn(\n"
     ]
    },
    {
     "data": {
      "text/html": [
       "<div>\n",
       "    <div style=\"width: 24px; height: 24px; background-color: #e1e1e1; border: 3px solid #9D9D9D; border-radius: 5px; position: absolute;\"> </div>\n",
       "    <div style=\"margin-left: 48px;\">\n",
       "        <h3 style=\"margin-bottom: 0px;\">Client</h3>\n",
       "        <p style=\"color: #9D9D9D; margin-bottom: 0px;\">Client-6f11a846-95a2-11ed-8d5a-ac87a32ef689</p>\n",
       "        <table style=\"width: 100%; text-align: left;\">\n",
       "\n",
       "        <tr>\n",
       "        \n",
       "            <td style=\"text-align: left;\"><strong>Connection method:</strong> Cluster object</td>\n",
       "            <td style=\"text-align: left;\"><strong>Cluster type:</strong> distributed.LocalCluster</td>\n",
       "        \n",
       "        </tr>\n",
       "\n",
       "        \n",
       "            <tr>\n",
       "                <td style=\"text-align: left;\">\n",
       "                    <strong>Dashboard: </strong> <a href=\"http://127.0.0.1:57915/status\" target=\"_blank\">http://127.0.0.1:57915/status</a>\n",
       "                </td>\n",
       "                <td style=\"text-align: left;\"></td>\n",
       "            </tr>\n",
       "        \n",
       "\n",
       "        </table>\n",
       "\n",
       "        \n",
       "\n",
       "        \n",
       "            <details>\n",
       "            <summary style=\"margin-bottom: 20px;\"><h3 style=\"display: inline;\">Cluster Info</h3></summary>\n",
       "            <div class=\"jp-RenderedHTMLCommon jp-RenderedHTML jp-mod-trusted jp-OutputArea-output\">\n",
       "    <div style=\"width: 24px; height: 24px; background-color: #e1e1e1; border: 3px solid #9D9D9D; border-radius: 5px; position: absolute;\">\n",
       "    </div>\n",
       "    <div style=\"margin-left: 48px;\">\n",
       "        <h3 style=\"margin-bottom: 0px; margin-top: 0px;\">LocalCluster</h3>\n",
       "        <p style=\"color: #9D9D9D; margin-bottom: 0px;\">f2617699</p>\n",
       "        <table style=\"width: 100%; text-align: left;\">\n",
       "            <tr>\n",
       "                <td style=\"text-align: left;\">\n",
       "                    <strong>Dashboard:</strong> <a href=\"http://127.0.0.1:57915/status\" target=\"_blank\">http://127.0.0.1:57915/status</a>\n",
       "                </td>\n",
       "                <td style=\"text-align: left;\">\n",
       "                    <strong>Workers:</strong> 2\n",
       "                </td>\n",
       "            </tr>\n",
       "            <tr>\n",
       "                <td style=\"text-align: left;\">\n",
       "                    <strong>Total threads:</strong> 4\n",
       "                </td>\n",
       "                <td style=\"text-align: left;\">\n",
       "                    <strong>Total memory:</strong> 16.00 GiB\n",
       "                </td>\n",
       "            </tr>\n",
       "            \n",
       "            <tr>\n",
       "    <td style=\"text-align: left;\"><strong>Status:</strong> running</td>\n",
       "    <td style=\"text-align: left;\"><strong>Using processes:</strong> True</td>\n",
       "</tr>\n",
       "\n",
       "            \n",
       "        </table>\n",
       "\n",
       "        <details>\n",
       "            <summary style=\"margin-bottom: 20px;\">\n",
       "                <h3 style=\"display: inline;\">Scheduler Info</h3>\n",
       "            </summary>\n",
       "\n",
       "            <div style=\"\">\n",
       "    <div>\n",
       "        <div style=\"width: 24px; height: 24px; background-color: #FFF7E5; border: 3px solid #FF6132; border-radius: 5px; position: absolute;\"> </div>\n",
       "        <div style=\"margin-left: 48px;\">\n",
       "            <h3 style=\"margin-bottom: 0px;\">Scheduler</h3>\n",
       "            <p style=\"color: #9D9D9D; margin-bottom: 0px;\">Scheduler-9dc4d59c-b8fe-470a-ab73-7754dc10de60</p>\n",
       "            <table style=\"width: 100%; text-align: left;\">\n",
       "                <tr>\n",
       "                    <td style=\"text-align: left;\">\n",
       "                        <strong>Comm:</strong> tcp://127.0.0.1:57917\n",
       "                    </td>\n",
       "                    <td style=\"text-align: left;\">\n",
       "                        <strong>Workers:</strong> 2\n",
       "                    </td>\n",
       "                </tr>\n",
       "                <tr>\n",
       "                    <td style=\"text-align: left;\">\n",
       "                        <strong>Dashboard:</strong> <a href=\"http://127.0.0.1:57915/status\" target=\"_blank\">http://127.0.0.1:57915/status</a>\n",
       "                    </td>\n",
       "                    <td style=\"text-align: left;\">\n",
       "                        <strong>Total threads:</strong> 4\n",
       "                    </td>\n",
       "                </tr>\n",
       "                <tr>\n",
       "                    <td style=\"text-align: left;\">\n",
       "                        <strong>Started:</strong> Just now\n",
       "                    </td>\n",
       "                    <td style=\"text-align: left;\">\n",
       "                        <strong>Total memory:</strong> 16.00 GiB\n",
       "                    </td>\n",
       "                </tr>\n",
       "            </table>\n",
       "        </div>\n",
       "    </div>\n",
       "\n",
       "    <details style=\"margin-left: 48px;\">\n",
       "        <summary style=\"margin-bottom: 20px;\">\n",
       "            <h3 style=\"display: inline;\">Workers</h3>\n",
       "        </summary>\n",
       "\n",
       "        \n",
       "        <div style=\"margin-bottom: 20px;\">\n",
       "            <div style=\"width: 24px; height: 24px; background-color: #DBF5FF; border: 3px solid #4CC9FF; border-radius: 5px; position: absolute;\"> </div>\n",
       "            <div style=\"margin-left: 48px;\">\n",
       "            <details>\n",
       "                <summary>\n",
       "                    <h4 style=\"margin-bottom: 0px; display: inline;\">Worker: 0</h4>\n",
       "                </summary>\n",
       "                <table style=\"width: 100%; text-align: left;\">\n",
       "                    <tr>\n",
       "                        <td style=\"text-align: left;\">\n",
       "                            <strong>Comm: </strong> tcp://127.0.0.1:57929\n",
       "                        </td>\n",
       "                        <td style=\"text-align: left;\">\n",
       "                            <strong>Total threads: </strong> 2\n",
       "                        </td>\n",
       "                    </tr>\n",
       "                    <tr>\n",
       "                        <td style=\"text-align: left;\">\n",
       "                            <strong>Dashboard: </strong> <a href=\"http://127.0.0.1:57930/status\" target=\"_blank\">http://127.0.0.1:57930/status</a>\n",
       "                        </td>\n",
       "                        <td style=\"text-align: left;\">\n",
       "                            <strong>Memory: </strong> 8.00 GiB\n",
       "                        </td>\n",
       "                    </tr>\n",
       "                    <tr>\n",
       "                        <td style=\"text-align: left;\">\n",
       "                            <strong>Nanny: </strong> tcp://127.0.0.1:57920\n",
       "                        </td>\n",
       "                        <td style=\"text-align: left;\"></td>\n",
       "                    </tr>\n",
       "                    <tr>\n",
       "                        <td colspan=\"2\" style=\"text-align: left;\">\n",
       "                            <strong>Local directory: </strong> /var/folders/pd/8xdtkz814m5d49w2snrl4c5r0000gn/T/dask-worker-space/worker-nzxj9r8w\n",
       "                        </td>\n",
       "                    </tr>\n",
       "\n",
       "                    \n",
       "\n",
       "                    \n",
       "\n",
       "                </table>\n",
       "            </details>\n",
       "            </div>\n",
       "        </div>\n",
       "        \n",
       "        <div style=\"margin-bottom: 20px;\">\n",
       "            <div style=\"width: 24px; height: 24px; background-color: #DBF5FF; border: 3px solid #4CC9FF; border-radius: 5px; position: absolute;\"> </div>\n",
       "            <div style=\"margin-left: 48px;\">\n",
       "            <details>\n",
       "                <summary>\n",
       "                    <h4 style=\"margin-bottom: 0px; display: inline;\">Worker: 1</h4>\n",
       "                </summary>\n",
       "                <table style=\"width: 100%; text-align: left;\">\n",
       "                    <tr>\n",
       "                        <td style=\"text-align: left;\">\n",
       "                            <strong>Comm: </strong> tcp://127.0.0.1:57928\n",
       "                        </td>\n",
       "                        <td style=\"text-align: left;\">\n",
       "                            <strong>Total threads: </strong> 2\n",
       "                        </td>\n",
       "                    </tr>\n",
       "                    <tr>\n",
       "                        <td style=\"text-align: left;\">\n",
       "                            <strong>Dashboard: </strong> <a href=\"http://127.0.0.1:57931/status\" target=\"_blank\">http://127.0.0.1:57931/status</a>\n",
       "                        </td>\n",
       "                        <td style=\"text-align: left;\">\n",
       "                            <strong>Memory: </strong> 8.00 GiB\n",
       "                        </td>\n",
       "                    </tr>\n",
       "                    <tr>\n",
       "                        <td style=\"text-align: left;\">\n",
       "                            <strong>Nanny: </strong> tcp://127.0.0.1:57921\n",
       "                        </td>\n",
       "                        <td style=\"text-align: left;\"></td>\n",
       "                    </tr>\n",
       "                    <tr>\n",
       "                        <td colspan=\"2\" style=\"text-align: left;\">\n",
       "                            <strong>Local directory: </strong> /var/folders/pd/8xdtkz814m5d49w2snrl4c5r0000gn/T/dask-worker-space/worker-l6y1m5uh\n",
       "                        </td>\n",
       "                    </tr>\n",
       "\n",
       "                    \n",
       "\n",
       "                    \n",
       "\n",
       "                </table>\n",
       "            </details>\n",
       "            </div>\n",
       "        </div>\n",
       "        \n",
       "\n",
       "    </details>\n",
       "</div>\n",
       "\n",
       "        </details>\n",
       "    </div>\n",
       "</div>\n",
       "            </details>\n",
       "        \n",
       "\n",
       "    </div>\n",
       "</div>"
      ],
      "text/plain": [
       "<Client: 'tcp://127.0.0.1:57917' processes=2 threads=4, memory=16.00 GiB>"
      ]
     },
     "execution_count": 86,
     "metadata": {},
     "output_type": "execute_result"
    }
   ],
   "source": [
    "client = Client(n_workers=2)\n",
    "client"
   ]
  },
  {
   "cell_type": "code",
   "execution_count": 87,
   "id": "c3178e2c",
   "metadata": {},
   "outputs": [
    {
     "data": {
      "text/plain": [
       "'/Users/francesco/REPOS/name-clf/app'"
      ]
     },
     "execution_count": 87,
     "metadata": {},
     "output_type": "execute_result"
    }
   ],
   "source": [
    "os.getcwd()"
   ]
  },
  {
   "cell_type": "code",
   "execution_count": 88,
   "id": "89752538",
   "metadata": {},
   "outputs": [],
   "source": [
    "base_url = '/Users/francesco/REPOS/name-clf/app'"
   ]
  },
  {
   "cell_type": "code",
   "execution_count": 89,
   "id": "dc29bb87",
   "metadata": {},
   "outputs": [],
   "source": [
    "os.chdir(base_url)"
   ]
  },
  {
   "cell_type": "code",
   "execution_count": 90,
   "id": "19d7feb7",
   "metadata": {},
   "outputs": [],
   "source": [
    "from utils.dev_utils import load_raw_data\n",
    "from utils.prod_utils import remove_digits_punctuation_doublespaces"
   ]
  },
  {
   "cell_type": "code",
   "execution_count": 91,
   "id": "82f231d2",
   "metadata": {},
   "outputs": [],
   "source": [
    "nd = NameDataset()"
   ]
  },
  {
   "cell_type": "code",
   "execution_count": 92,
   "id": "fd2b9d90",
   "metadata": {},
   "outputs": [
    {
     "name": "stdout",
     "output_type": "stream",
     "text": [
      "['AE', 'AF', 'AL', 'AO', 'AR', 'AT', 'AZ', 'BD', 'BE', 'BF', 'BG', 'BH', 'BI', 'BN', 'BO', 'BR', 'BW', 'CA', 'CH', 'CL', 'CM', 'CN', 'CO', 'CR', 'CY', 'CZ', 'DE', 'DJ', 'DK', 'DZ', 'EC', 'EE', 'EG', 'ES', 'ET', 'FI', 'FJ', 'FR', 'GB', 'GE', 'GH', 'GR', 'GT', 'HK', 'HN', 'HR', 'HT', 'HU', 'ID', 'IE', 'IL', 'IN', 'IQ', 'IR', 'IS', 'IT', 'JM', 'JO', 'JP', 'KH', 'KR', 'KW', 'KZ', 'LB', 'LT', 'LU', 'LY', 'MA', 'MD', 'MO', 'MT', 'MU', 'MV', 'MX', 'MY', 'NA', 'NG', 'NL', 'NO', 'OM', 'PA', 'PE', 'PH', 'PL', 'PR', 'PS', 'PT', 'QA', 'RS', 'RU', 'SA', 'SD', 'SE', 'SG', 'SI', 'SV', 'SY', 'TM', 'TN', 'TR', 'TW', 'US', 'UY', 'YE', 'ZA']\n"
     ]
    },
    {
     "data": {
      "text/plain": [
       "{'AE': 'United Arab Emirates',\n",
       " 'AF': 'Afghanistan',\n",
       " 'AL': 'Albania',\n",
       " 'AO': 'Angola',\n",
       " 'AR': 'Argentina',\n",
       " 'AT': 'Austria',\n",
       " 'AZ': 'Azerbaijan',\n",
       " 'BD': 'Bangladesh',\n",
       " 'BE': 'Belgium',\n",
       " 'BF': 'Burkina Faso',\n",
       " 'BG': 'Bulgaria',\n",
       " 'BH': 'Bahrain',\n",
       " 'BI': 'Burundi',\n",
       " 'BN': 'Brunei Darussalam',\n",
       " 'BO': 'Bolivia, Plurinational State of',\n",
       " 'BR': 'Brazil',\n",
       " 'BW': 'Botswana',\n",
       " 'CA': 'Canada',\n",
       " 'CH': 'Switzerland',\n",
       " 'CL': 'Chile',\n",
       " 'CM': 'Cameroon',\n",
       " 'CN': 'China',\n",
       " 'CO': 'Colombia',\n",
       " 'CR': 'Costa Rica',\n",
       " 'CY': 'Cyprus',\n",
       " 'CZ': 'Czechia',\n",
       " 'DE': 'Germany',\n",
       " 'DJ': 'Djibouti',\n",
       " 'DK': 'Denmark',\n",
       " 'DZ': 'Algeria',\n",
       " 'EC': 'Ecuador',\n",
       " 'EE': 'Estonia',\n",
       " 'EG': 'Egypt',\n",
       " 'ES': 'Spain',\n",
       " 'ET': 'Ethiopia',\n",
       " 'FI': 'Finland',\n",
       " 'FJ': 'Fiji',\n",
       " 'FR': 'France',\n",
       " 'GB': 'United Kingdom',\n",
       " 'GE': 'Georgia',\n",
       " 'GH': 'Ghana',\n",
       " 'GR': 'Greece',\n",
       " 'GT': 'Guatemala',\n",
       " 'HK': 'Hong Kong',\n",
       " 'HN': 'Honduras',\n",
       " 'HR': 'Croatia',\n",
       " 'HT': 'Haiti',\n",
       " 'HU': 'Hungary',\n",
       " 'ID': 'Indonesia',\n",
       " 'IE': 'Ireland',\n",
       " 'IL': 'Israel',\n",
       " 'IN': 'India',\n",
       " 'IQ': 'Iraq',\n",
       " 'IR': 'Iran, Islamic Republic of',\n",
       " 'IS': 'Iceland',\n",
       " 'IT': 'Italy',\n",
       " 'JM': 'Jamaica',\n",
       " 'JO': 'Jordan',\n",
       " 'JP': 'Japan',\n",
       " 'KH': 'Cambodia',\n",
       " 'KR': 'Korea, Republic of',\n",
       " 'KW': 'Kuwait',\n",
       " 'KZ': 'Kazakhstan',\n",
       " 'LB': 'Lebanon',\n",
       " 'LT': 'Lithuania',\n",
       " 'LU': 'Luxembourg',\n",
       " 'LY': 'Libya',\n",
       " 'MA': 'Morocco',\n",
       " 'MD': 'Moldova, Republic of',\n",
       " 'MO': 'Macao',\n",
       " 'MT': 'Malta',\n",
       " 'MU': 'Mauritius',\n",
       " 'MV': 'Maldives',\n",
       " 'MX': 'Mexico',\n",
       " 'MY': 'Malaysia',\n",
       " 'NA': 'Namibia',\n",
       " 'NG': 'Nigeria',\n",
       " 'NL': 'Netherlands',\n",
       " 'NO': 'Norway',\n",
       " 'OM': 'Oman',\n",
       " 'PA': 'Panama',\n",
       " 'PE': 'Peru',\n",
       " 'PH': 'Philippines',\n",
       " 'PL': 'Poland',\n",
       " 'PR': 'Puerto Rico',\n",
       " 'PS': 'Palestine, State of',\n",
       " 'PT': 'Portugal',\n",
       " 'QA': 'Qatar',\n",
       " 'RS': 'Serbia',\n",
       " 'RU': 'Russian Federation',\n",
       " 'SA': 'Saudi Arabia',\n",
       " 'SD': 'Sudan',\n",
       " 'SE': 'Sweden',\n",
       " 'SG': 'Singapore',\n",
       " 'SI': 'Slovenia',\n",
       " 'SV': 'El Salvador',\n",
       " 'SY': 'Syrian Arab Republic',\n",
       " 'TM': 'Turkmenistan',\n",
       " 'TN': 'Tunisia',\n",
       " 'TR': 'Turkey',\n",
       " 'TW': 'Taiwan, Province of China',\n",
       " 'US': 'United States',\n",
       " 'UY': 'Uruguay',\n",
       " 'YE': 'Yemen',\n",
       " 'ZA': 'South Africa'}"
      ]
     },
     "execution_count": 92,
     "metadata": {},
     "output_type": "execute_result"
    }
   ],
   "source": [
    "country_codes = nd.get_country_codes(alpha_2=True)\n",
    "print(country_codes)\n",
    "country_mapping = {}\n",
    "for country_code in country_codes:\n",
    "    country_name = pycountry.countries.get(alpha_2=country_code).name\n",
    "    country_mapping[country_code] = country_name\n",
    "\n",
    "country_mapping"
   ]
  },
  {
   "cell_type": "code",
   "execution_count": 93,
   "id": "20bb3ad9",
   "metadata": {},
   "outputs": [
    {
     "name": "stdout",
     "output_type": "stream",
     "text": [
      "{'DE': 'Germany', 'ES': 'Spain', 'FR': 'France'}\n"
     ]
    }
   ],
   "source": [
    "subset = (\"ES\", \"FR\", \"DE\")#, \"GB\")\n",
    "europe = dict(filter(lambda i:i[0] in subset, country_mapping.items()))\n",
    "print(europe)\n"
   ]
  },
  {
   "cell_type": "code",
   "execution_count": 94,
   "id": "8faf2717",
   "metadata": {},
   "outputs": [],
   "source": [
    "top = 100"
   ]
  },
  {
   "cell_type": "code",
   "execution_count": 95,
   "id": "816c5fc0",
   "metadata": {},
   "outputs": [
    {
     "name": "stdout",
     "output_type": "stream",
     "text": [
      "DE\n",
      "{'DE': {'M': ['Michael', 'Thomas', 'Andreas', 'Christian', 'Stefan', 'Daniel', 'Peter', 'Frank', 'Markus', 'Martin', 'Sebastian', 'Alexander', 'Andrea', 'Sven', 'Matthias', 'Marcel', 'Patrick', 'Tobias', 'Jens', 'Marco', 'Jürgen', 'Uwe', 'Dirk', 'Jan', 'Ralf', 'Florian', 'Klaus', 'Wolfgang', 'Oliver', 'Dennis', 'Bernd', 'Jörg', 'Kevin', 'Mario', 'Robert', 'Sascha', 'Christoph', 'Stephan', 'Steffen', 'Max', 'Tim', 'Andre', 'Philipp', 'Marc', 'Chris', 'Nico', 'Simone', 'Dieter', 'Torsten', 'Manfred', 'Rene', 'Dominik', 'Heiko', 'Maik', 'Holger', 'Manuel', 'Kai', 'Mike', 'Thorsten', 'Rainer', 'Fabian', 'Lars', 'Lukas', 'Felix', 'Marcus', 'Benjamin', 'Paul', 'Hans', 'Tom', 'Carsten', 'Johannes', 'Werner', 'Timo', 'Ronny', 'Volker', 'Roland', 'Simon', 'Pascal', 'Norbert', 'Julian', 'Gabriele', 'Olaf', 'Harald', 'Mehmet', 'Ingo', 'Helmut', 'Joachim', 'Björn', 'André', 'Jonas', 'Mustafa', 'René', 'Mathias', 'Axel', 'Gerhard', 'Andy', 'Karsten', 'Horst', 'Leon', 'Georg'], 'F': ['Nicole', 'Sandra', 'Sabine', 'Petra', 'Claudia', 'Julia', 'Anja', 'Melanie', 'Heike', 'Anna', 'Kerstin', 'Nadine', 'Tanja', 'Monika', 'Daniela', 'Susanne', 'Sarah', 'Lisa', 'Stefanie', 'Martina', 'Manuela', 'Sabrina', 'Birgit', 'Karin', 'Katrin', 'Marion', 'Laura', 'Michaela', 'Yvonne', 'Katja', 'Jessica', 'Christine', 'Silke', 'Christina', 'Katharina', 'Alexandra', 'Jana', 'Elke', 'Sonja', 'Diana', 'Jenny', 'Vanessa', 'Angelika', 'Tina', 'Steffi', 'Anne', 'Jasmin', 'Kathrin', 'Nina', 'Bianca', 'Barbara', 'Ute', 'Lena', 'Jennifer', 'Silvia', 'Brigitte', 'Mandy', 'Stephanie', 'Bettina', 'Anke', 'Ulrike', 'Franziska', 'Ramona', 'Sylvia', 'Marina', 'Eva', 'Angela', 'Beate', 'Carmen', 'Christiane', 'Renate', 'Michelle', 'Ines', 'Gabi', 'Heidi', 'Janine', 'Doris', 'Jutta', 'Antje', 'Regina', 'Iris', 'Jacqueline', 'Ingrid', 'Cornelia', 'Annette', 'Denise', 'Marie', 'Verena', 'Ursula', 'Anita', 'Doreen', 'Lea', 'Ina', 'Astrid', 'Elena', 'Britta', 'Alina', 'Conny', 'Dagmar', 'Helga']}}\n",
      "ES\n",
      "{'ES': {'M': ['Jose', 'Antonio', 'Juan', 'Manuel', 'David', 'Carlos', 'Javier', 'Francisco', 'Miguel', 'Pedro', 'Luis', 'Daniel', 'Sergio', 'Jesus', 'Alberto', 'Jorge', 'Fernando', 'Pablo', 'Angel', 'Alejandro', 'Rafael', 'Jose Luis', 'Jose Antonio', 'Diego', 'Oscar', 'Alex', 'Ivan', 'Paco', 'Raul', 'Jose Manuel', 'Victor', 'Juan Carlos', 'Andrea', 'Jordi', 'Miguel Angel', 'Javi', 'Roberto', 'Alvaro', 'Adrian', 'Ruben', 'Mario', 'Enrique', 'Vicente', 'Eduardo', 'José', 'Fran', 'Andres', 'Dani', 'Pepe', 'Ramon', 'Cristian', 'Alfonso', 'Marcos', 'Jaime', 'Toni', 'Juan Antonio', 'Francisco Javier', 'Ricardo', 'Rafa', 'Julio', 'Jesús', 'Emilio', 'Jose Maria', 'Santiago', 'Joaquin', 'Marc', 'Manolo', 'Gabriel', 'Juan Manuel', 'Juan Jose', 'Ismael', 'Salvador', 'Josep', 'Guillermo', 'Gonzalo', 'Nacho', 'Albert', 'Ignacio', 'Samuel', 'Julian', 'Aitor', 'Cesar', 'Alfredo', 'Borja', 'Tomas', 'Manu', 'Jonathan', 'Juanjo', 'Felix', 'Felipe', 'Agustin', 'José Luis', 'Santi', 'Rubén', 'Raúl', 'José Antonio', 'Mariano', 'Hugo', 'Adrián', 'Domingo'], 'F': ['Maria', 'Ana', 'Carmen', 'Laura', 'Isabel', 'Cristina', 'Marta', 'Pilar', 'Rosa', 'Elena', 'Sara', 'Raquel', 'Sandra', 'Eva', 'Sonia', 'Silvia', 'María', 'Paula', 'Teresa', 'Mari Carmen', 'Rocio', 'Yolanda', 'Maria Jose', 'Patricia', 'Mercedes', 'Mari', 'Susana', 'Antonia', 'Esther', 'Loli', 'Lucia', 'Beatriz', 'Paqui', 'Nuria', 'Alba', 'Lola', 'Montse', 'Alicia', 'Monica', 'Natalia', 'Irene', 'Marina', 'Noelia', 'Lorena', 'Inma', 'Julia', 'Maribel', 'Conchi', 'Joan', 'Ana Maria', 'Angela', 'Miriam', 'Angeles', 'Amparo', 'Anna', 'Dolores', 'Lourdes', 'Olga', 'Mar', 'Rosario', 'Gloria', 'Carolina', 'Claudia', 'Marisa', 'Maite', 'Veronica', 'Victoria', 'Luisa', 'Vanessa', 'Pepi', 'Gema', 'Lidia', 'Nerea', 'Belen', 'Toñi', 'Manuela', 'Begoña', 'Juani', 'Manoli', 'Pili', 'Carla', 'Nieves', 'Josefa', 'Margarita', 'Juana', 'Mary', 'Virginia', 'Vanesa', 'Tere', 'Blanca', 'Maria Jesus', 'Encarna', 'Isa', 'Clara', 'Maricarmen', 'Charo', 'Marian', 'Paloma', 'Inmaculada', 'Marisol']}}\n",
      "FR\n",
      "{'FR': {'F': ['Marie', 'Nathalie', 'Sylvie', 'Isabelle', 'Sophie', 'Sandrine', 'Dominique', 'Julie', 'Christine', 'Catherine', 'Martine', 'Sarah', 'Laura', 'Camille', 'Patricia', 'Virginie', 'Manon', 'Audrey', 'Elodie', 'Marine', 'Emilie', 'Caroline', 'Christelle', 'Marion', 'Pauline', 'Laurence', 'Céline', 'Corinne', 'Anne', 'Chantal', 'Brigitte', 'Laetitia', 'Sandra', 'Claire', 'Karine', 'Delphine', 'Stéphanie', 'Léa', 'Florence', 'Lucie', 'Nicole', 'Monique', 'Valérie', 'Mathilde', 'Sabrina', 'Charlotte', 'Annie', 'Valerie', 'Aurélie', 'Stephanie', 'Amandine', 'Carole', 'Sonia', 'Alexandra', 'Françoise', 'Celine', 'Chloé', 'Justine', 'Mélanie', 'Emma', 'Vanessa', 'Fanny', 'Morgane', 'Nadine', 'Nadia', 'Veronique', 'Myriam', 'Véronique', 'Maria', 'Fabienne', 'Cathy', 'Jessica', 'Pascale', 'Cindy', 'Cécile', 'Estelle', 'Clara', 'Alice', 'Laure', 'Christiane', 'Evelyne', 'Hélène', 'Anaïs', 'Aurore', 'Francoise', 'Claudine', 'Aurelie', 'Jacqueline', 'Magali', 'Elisabeth', 'Jennifer', 'Juliette', 'Lisa', 'Fatima', 'Muriel', 'Danielle', 'Emmanuelle', 'Annick', 'Coralie', 'Marina'], 'M': ['Nicolas', 'David', 'Julien', 'Philippe', 'Christophe', 'Thomas', 'Pierre', 'Laurent', 'Michel', 'Alexandre', 'Eric', 'Alain', 'Patrick', 'Guillaume', 'Olivier', 'Romain', 'Vincent', 'Maxime', 'Thierry', 'Pascal', 'Anthony', 'Antoine', 'Jean', 'Mohamed', 'Kevin', 'Christian', 'Franck', 'Bruno', 'Daniel', 'Mathieu', 'Alex', 'Stephane', 'Quentin', 'Sebastien', 'Florian', 'Benjamin', 'Didier', 'Alexis', 'Marc', 'Lucas', 'Damien', 'Paul', 'Arnaud', 'Sébastien', 'Bernard', 'Claude', 'Hugo', 'Sylvain', 'Frederic', 'Jonathan', 'Jerome', 'Adrien', 'Valentin', 'Mickael', 'Fabien', 'Fabrice', 'Stéphane', 'Ludovic', 'Jacques', 'Cyril', 'Louis', 'Gilles', 'Dylan', 'Jeremy', 'François', 'Cedric', 'Clément', 'Frédéric', 'Karim', 'Xavier', 'Yann', 'Tony', 'Serge', 'Denis', 'Jordan', 'Benoit', 'Patrice', 'Matthieu', 'Enzo', 'Emmanuel', 'Fred', 'Baptiste', 'Yannick', 'Mehdi', 'Jérôme', 'Victor', 'Gerard', 'Simon', 'Arthur', 'Tom', 'Yves', 'Chris', 'Cédric', 'Jérémy', 'Charles', 'Lionel', 'Axel', 'Guy', 'Florent', 'Michael']}}\n",
      "{'Name': ['Michael', 'Thomas', 'Andreas', 'Christian', 'Stefan', 'Daniel', 'Peter', 'Frank', 'Markus', 'Martin', 'Sebastian', 'Alexander', 'Andrea', 'Sven', 'Matthias', 'Marcel', 'Patrick', 'Tobias', 'Jens', 'Marco', 'Jürgen', 'Uwe', 'Dirk', 'Jan', 'Ralf', 'Florian', 'Klaus', 'Wolfgang', 'Oliver', 'Dennis', 'Bernd', 'Jörg', 'Kevin', 'Mario', 'Robert', 'Sascha', 'Christoph', 'Stephan', 'Steffen', 'Max', 'Tim', 'Andre', 'Philipp', 'Marc', 'Chris', 'Nico', 'Simone', 'Dieter', 'Torsten', 'Manfred', 'Rene', 'Dominik', 'Heiko', 'Maik', 'Holger', 'Manuel', 'Kai', 'Mike', 'Thorsten', 'Rainer', 'Fabian', 'Lars', 'Lukas', 'Felix', 'Marcus', 'Benjamin', 'Paul', 'Hans', 'Tom', 'Carsten', 'Johannes', 'Werner', 'Timo', 'Ronny', 'Volker', 'Roland', 'Simon', 'Pascal', 'Norbert', 'Julian', 'Gabriele', 'Olaf', 'Harald', 'Mehmet', 'Ingo', 'Helmut', 'Joachim', 'Björn', 'André', 'Jonas', 'Mustafa', 'René', 'Mathias', 'Axel', 'Gerhard', 'Andy', 'Karsten', 'Horst', 'Leon', 'Georg', 'Nicole', 'Sandra', 'Sabine', 'Petra', 'Claudia', 'Julia', 'Anja', 'Melanie', 'Heike', 'Anna', 'Kerstin', 'Nadine', 'Tanja', 'Monika', 'Daniela', 'Susanne', 'Sarah', 'Lisa', 'Stefanie', 'Martina', 'Manuela', 'Sabrina', 'Birgit', 'Karin', 'Katrin', 'Marion', 'Laura', 'Michaela', 'Yvonne', 'Katja', 'Jessica', 'Christine', 'Silke', 'Christina', 'Katharina', 'Alexandra', 'Jana', 'Elke', 'Sonja', 'Diana', 'Jenny', 'Vanessa', 'Angelika', 'Tina', 'Steffi', 'Anne', 'Jasmin', 'Kathrin', 'Nina', 'Bianca', 'Barbara', 'Ute', 'Lena', 'Jennifer', 'Silvia', 'Brigitte', 'Mandy', 'Stephanie', 'Bettina', 'Anke', 'Ulrike', 'Franziska', 'Ramona', 'Sylvia', 'Marina', 'Eva', 'Angela', 'Beate', 'Carmen', 'Christiane', 'Renate', 'Michelle', 'Ines', 'Gabi', 'Heidi', 'Janine', 'Doris', 'Jutta', 'Antje', 'Regina', 'Iris', 'Jacqueline', 'Ingrid', 'Cornelia', 'Annette', 'Denise', 'Marie', 'Verena', 'Ursula', 'Anita', 'Doreen', 'Lea', 'Ina', 'Astrid', 'Elena', 'Britta', 'Alina', 'Conny', 'Dagmar', 'Helga', 'Jose', 'Antonio', 'Juan', 'Manuel', 'David', 'Carlos', 'Javier', 'Francisco', 'Miguel', 'Pedro', 'Luis', 'Daniel', 'Sergio', 'Jesus', 'Alberto', 'Jorge', 'Fernando', 'Pablo', 'Angel', 'Alejandro', 'Rafael', 'Jose Luis', 'Jose Antonio', 'Diego', 'Oscar', 'Alex', 'Ivan', 'Paco', 'Raul', 'Jose Manuel', 'Victor', 'Juan Carlos', 'Andrea', 'Jordi', 'Miguel Angel', 'Javi', 'Roberto', 'Alvaro', 'Adrian', 'Ruben', 'Mario', 'Enrique', 'Vicente', 'Eduardo', 'José', 'Fran', 'Andres', 'Dani', 'Pepe', 'Ramon', 'Cristian', 'Alfonso', 'Marcos', 'Jaime', 'Toni', 'Juan Antonio', 'Francisco Javier', 'Ricardo', 'Rafa', 'Julio', 'Jesús', 'Emilio', 'Jose Maria', 'Santiago', 'Joaquin', 'Marc', 'Manolo', 'Gabriel', 'Juan Manuel', 'Juan Jose', 'Ismael', 'Salvador', 'Josep', 'Guillermo', 'Gonzalo', 'Nacho', 'Albert', 'Ignacio', 'Samuel', 'Julian', 'Aitor', 'Cesar', 'Alfredo', 'Borja', 'Tomas', 'Manu', 'Jonathan', 'Juanjo', 'Felix', 'Felipe', 'Agustin', 'José Luis', 'Santi', 'Rubén', 'Raúl', 'José Antonio', 'Mariano', 'Hugo', 'Adrián', 'Domingo', 'Maria', 'Ana', 'Carmen', 'Laura', 'Isabel', 'Cristina', 'Marta', 'Pilar', 'Rosa', 'Elena', 'Sara', 'Raquel', 'Sandra', 'Eva', 'Sonia', 'Silvia', 'María', 'Paula', 'Teresa', 'Mari Carmen', 'Rocio', 'Yolanda', 'Maria Jose', 'Patricia', 'Mercedes', 'Mari', 'Susana', 'Antonia', 'Esther', 'Loli', 'Lucia', 'Beatriz', 'Paqui', 'Nuria', 'Alba', 'Lola', 'Montse', 'Alicia', 'Monica', 'Natalia', 'Irene', 'Marina', 'Noelia', 'Lorena', 'Inma', 'Julia', 'Maribel', 'Conchi', 'Joan', 'Ana Maria', 'Angela', 'Miriam', 'Angeles', 'Amparo', 'Anna', 'Dolores', 'Lourdes', 'Olga', 'Mar', 'Rosario', 'Gloria', 'Carolina', 'Claudia', 'Marisa', 'Maite', 'Veronica', 'Victoria', 'Luisa', 'Vanessa', 'Pepi', 'Gema', 'Lidia', 'Nerea', 'Belen', 'Toñi', 'Manuela', 'Begoña', 'Juani', 'Manoli', 'Pili', 'Carla', 'Nieves', 'Josefa', 'Margarita', 'Juana', 'Mary', 'Virginia', 'Vanesa', 'Tere', 'Blanca', 'Maria Jesus', 'Encarna', 'Isa', 'Clara', 'Maricarmen', 'Charo', 'Marian', 'Paloma', 'Inmaculada', 'Marisol', 'Nicolas', 'David', 'Julien', 'Philippe', 'Christophe', 'Thomas', 'Pierre', 'Laurent', 'Michel', 'Alexandre', 'Eric', 'Alain', 'Patrick', 'Guillaume', 'Olivier', 'Romain', 'Vincent', 'Maxime', 'Thierry', 'Pascal', 'Anthony', 'Antoine', 'Jean', 'Mohamed', 'Kevin', 'Christian', 'Franck', 'Bruno', 'Daniel', 'Mathieu', 'Alex', 'Stephane', 'Quentin', 'Sebastien', 'Florian', 'Benjamin', 'Didier', 'Alexis', 'Marc', 'Lucas', 'Damien', 'Paul', 'Arnaud', 'Sébastien', 'Bernard', 'Claude', 'Hugo', 'Sylvain', 'Frederic', 'Jonathan', 'Jerome', 'Adrien', 'Valentin', 'Mickael', 'Fabien', 'Fabrice', 'Stéphane', 'Ludovic', 'Jacques', 'Cyril', 'Louis', 'Gilles', 'Dylan', 'Jeremy', 'François', 'Cedric', 'Clément', 'Frédéric', 'Karim', 'Xavier', 'Yann', 'Tony', 'Serge', 'Denis', 'Jordan', 'Benoit', 'Patrice', 'Matthieu', 'Enzo', 'Emmanuel', 'Fred', 'Baptiste', 'Yannick', 'Mehdi', 'Jérôme', 'Victor', 'Gerard', 'Simon', 'Arthur', 'Tom', 'Yves', 'Chris', 'Cédric', 'Jérémy', 'Charles', 'Lionel', 'Axel', 'Guy', 'Florent', 'Michael', 'Marie', 'Nathalie', 'Sylvie', 'Isabelle', 'Sophie', 'Sandrine', 'Dominique', 'Julie', 'Christine', 'Catherine', 'Martine', 'Sarah', 'Laura', 'Camille', 'Patricia', 'Virginie', 'Manon', 'Audrey', 'Elodie', 'Marine', 'Emilie', 'Caroline', 'Christelle', 'Marion', 'Pauline', 'Laurence', 'Céline', 'Corinne', 'Anne', 'Chantal', 'Brigitte', 'Laetitia', 'Sandra', 'Claire', 'Karine', 'Delphine', 'Stéphanie', 'Léa', 'Florence', 'Lucie', 'Nicole', 'Monique', 'Valérie', 'Mathilde', 'Sabrina', 'Charlotte', 'Annie', 'Valerie', 'Aurélie', 'Stephanie', 'Amandine', 'Carole', 'Sonia', 'Alexandra', 'Françoise', 'Celine', 'Chloé', 'Justine', 'Mélanie', 'Emma', 'Vanessa', 'Fanny', 'Morgane', 'Nadine', 'Nadia', 'Veronique', 'Myriam', 'Véronique', 'Maria', 'Fabienne', 'Cathy', 'Jessica', 'Pascale', 'Cindy', 'Cécile', 'Estelle', 'Clara', 'Alice', 'Laure', 'Christiane', 'Evelyne', 'Hélène', 'Anaïs', 'Aurore', 'Francoise', 'Claudine', 'Aurelie', 'Jacqueline', 'Magali', 'Elisabeth', 'Jennifer', 'Juliette', 'Lisa', 'Fatima', 'Muriel', 'Danielle', 'Emmanuelle', 'Annick', 'Coralie', 'Marina'], 'Country': ['Germany', 'Germany', 'Germany', 'Germany', 'Germany', 'Germany', 'Germany', 'Germany', 'Germany', 'Germany', 'Germany', 'Germany', 'Germany', 'Germany', 'Germany', 'Germany', 'Germany', 'Germany', 'Germany', 'Germany', 'Germany', 'Germany', 'Germany', 'Germany', 'Germany', 'Germany', 'Germany', 'Germany', 'Germany', 'Germany', 'Germany', 'Germany', 'Germany', 'Germany', 'Germany', 'Germany', 'Germany', 'Germany', 'Germany', 'Germany', 'Germany', 'Germany', 'Germany', 'Germany', 'Germany', 'Germany', 'Germany', 'Germany', 'Germany', 'Germany', 'Germany', 'Germany', 'Germany', 'Germany', 'Germany', 'Germany', 'Germany', 'Germany', 'Germany', 'Germany', 'Germany', 'Germany', 'Germany', 'Germany', 'Germany', 'Germany', 'Germany', 'Germany', 'Germany', 'Germany', 'Germany', 'Germany', 'Germany', 'Germany', 'Germany', 'Germany', 'Germany', 'Germany', 'Germany', 'Germany', 'Germany', 'Germany', 'Germany', 'Germany', 'Germany', 'Germany', 'Germany', 'Germany', 'Germany', 'Germany', 'Germany', 'Germany', 'Germany', 'Germany', 'Germany', 'Germany', 'Germany', 'Germany', 'Germany', 'Germany', 'Germany', 'Germany', 'Germany', 'Germany', 'Germany', 'Germany', 'Germany', 'Germany', 'Germany', 'Germany', 'Germany', 'Germany', 'Germany', 'Germany', 'Germany', 'Germany', 'Germany', 'Germany', 'Germany', 'Germany', 'Germany', 'Germany', 'Germany', 'Germany', 'Germany', 'Germany', 'Germany', 'Germany', 'Germany', 'Germany', 'Germany', 'Germany', 'Germany', 'Germany', 'Germany', 'Germany', 'Germany', 'Germany', 'Germany', 'Germany', 'Germany', 'Germany', 'Germany', 'Germany', 'Germany', 'Germany', 'Germany', 'Germany', 'Germany', 'Germany', 'Germany', 'Germany', 'Germany', 'Germany', 'Germany', 'Germany', 'Germany', 'Germany', 'Germany', 'Germany', 'Germany', 'Germany', 'Germany', 'Germany', 'Germany', 'Germany', 'Germany', 'Germany', 'Germany', 'Germany', 'Germany', 'Germany', 'Germany', 'Germany', 'Germany', 'Germany', 'Germany', 'Germany', 'Germany', 'Germany', 'Germany', 'Germany', 'Germany', 'Germany', 'Germany', 'Germany', 'Germany', 'Germany', 'Germany', 'Germany', 'Germany', 'Germany', 'Germany', 'Germany', 'Germany', 'Germany', 'Germany', 'Germany', 'Germany', 'Germany', 'Spain', 'Spain', 'Spain', 'Spain', 'Spain', 'Spain', 'Spain', 'Spain', 'Spain', 'Spain', 'Spain', 'Spain', 'Spain', 'Spain', 'Spain', 'Spain', 'Spain', 'Spain', 'Spain', 'Spain', 'Spain', 'Spain', 'Spain', 'Spain', 'Spain', 'Spain', 'Spain', 'Spain', 'Spain', 'Spain', 'Spain', 'Spain', 'Spain', 'Spain', 'Spain', 'Spain', 'Spain', 'Spain', 'Spain', 'Spain', 'Spain', 'Spain', 'Spain', 'Spain', 'Spain', 'Spain', 'Spain', 'Spain', 'Spain', 'Spain', 'Spain', 'Spain', 'Spain', 'Spain', 'Spain', 'Spain', 'Spain', 'Spain', 'Spain', 'Spain', 'Spain', 'Spain', 'Spain', 'Spain', 'Spain', 'Spain', 'Spain', 'Spain', 'Spain', 'Spain', 'Spain', 'Spain', 'Spain', 'Spain', 'Spain', 'Spain', 'Spain', 'Spain', 'Spain', 'Spain', 'Spain', 'Spain', 'Spain', 'Spain', 'Spain', 'Spain', 'Spain', 'Spain', 'Spain', 'Spain', 'Spain', 'Spain', 'Spain', 'Spain', 'Spain', 'Spain', 'Spain', 'Spain', 'Spain', 'Spain', 'Spain', 'Spain', 'Spain', 'Spain', 'Spain', 'Spain', 'Spain', 'Spain', 'Spain', 'Spain', 'Spain', 'Spain', 'Spain', 'Spain', 'Spain', 'Spain', 'Spain', 'Spain', 'Spain', 'Spain', 'Spain', 'Spain', 'Spain', 'Spain', 'Spain', 'Spain', 'Spain', 'Spain', 'Spain', 'Spain', 'Spain', 'Spain', 'Spain', 'Spain', 'Spain', 'Spain', 'Spain', 'Spain', 'Spain', 'Spain', 'Spain', 'Spain', 'Spain', 'Spain', 'Spain', 'Spain', 'Spain', 'Spain', 'Spain', 'Spain', 'Spain', 'Spain', 'Spain', 'Spain', 'Spain', 'Spain', 'Spain', 'Spain', 'Spain', 'Spain', 'Spain', 'Spain', 'Spain', 'Spain', 'Spain', 'Spain', 'Spain', 'Spain', 'Spain', 'Spain', 'Spain', 'Spain', 'Spain', 'Spain', 'Spain', 'Spain', 'Spain', 'Spain', 'Spain', 'Spain', 'Spain', 'Spain', 'Spain', 'Spain', 'Spain', 'Spain', 'Spain', 'Spain', 'Spain', 'Spain', 'Spain', 'Spain', 'Spain', 'Spain', 'Spain', 'Spain', 'Spain', 'Spain', 'Spain', 'Spain', 'France', 'France', 'France', 'France', 'France', 'France', 'France', 'France', 'France', 'France', 'France', 'France', 'France', 'France', 'France', 'France', 'France', 'France', 'France', 'France', 'France', 'France', 'France', 'France', 'France', 'France', 'France', 'France', 'France', 'France', 'France', 'France', 'France', 'France', 'France', 'France', 'France', 'France', 'France', 'France', 'France', 'France', 'France', 'France', 'France', 'France', 'France', 'France', 'France', 'France', 'France', 'France', 'France', 'France', 'France', 'France', 'France', 'France', 'France', 'France', 'France', 'France', 'France', 'France', 'France', 'France', 'France', 'France', 'France', 'France', 'France', 'France', 'France', 'France', 'France', 'France', 'France', 'France', 'France', 'France', 'France', 'France', 'France', 'France', 'France', 'France', 'France', 'France', 'France', 'France', 'France', 'France', 'France', 'France', 'France', 'France', 'France', 'France', 'France', 'France', 'France', 'France', 'France', 'France', 'France', 'France', 'France', 'France', 'France', 'France', 'France', 'France', 'France', 'France', 'France', 'France', 'France', 'France', 'France', 'France', 'France', 'France', 'France', 'France', 'France', 'France', 'France', 'France', 'France', 'France', 'France', 'France', 'France', 'France', 'France', 'France', 'France', 'France', 'France', 'France', 'France', 'France', 'France', 'France', 'France', 'France', 'France', 'France', 'France', 'France', 'France', 'France', 'France', 'France', 'France', 'France', 'France', 'France', 'France', 'France', 'France', 'France', 'France', 'France', 'France', 'France', 'France', 'France', 'France', 'France', 'France', 'France', 'France', 'France', 'France', 'France', 'France', 'France', 'France', 'France', 'France', 'France', 'France', 'France', 'France', 'France', 'France', 'France', 'France', 'France', 'France', 'France', 'France', 'France', 'France', 'France', 'France', 'France', 'France', 'France'], 'Gender': ['Male', 'Male', 'Male', 'Male', 'Male', 'Male', 'Male', 'Male', 'Male', 'Male', 'Male', 'Male', 'Male', 'Male', 'Male', 'Male', 'Male', 'Male', 'Male', 'Male', 'Male', 'Male', 'Male', 'Male', 'Male', 'Male', 'Male', 'Male', 'Male', 'Male', 'Male', 'Male', 'Male', 'Male', 'Male', 'Male', 'Male', 'Male', 'Male', 'Male', 'Male', 'Male', 'Male', 'Male', 'Male', 'Male', 'Male', 'Male', 'Male', 'Male', 'Male', 'Male', 'Male', 'Male', 'Male', 'Male', 'Male', 'Male', 'Male', 'Male', 'Male', 'Male', 'Male', 'Male', 'Male', 'Male', 'Male', 'Male', 'Male', 'Male', 'Male', 'Male', 'Male', 'Male', 'Male', 'Male', 'Male', 'Male', 'Male', 'Male', 'Male', 'Male', 'Male', 'Male', 'Male', 'Male', 'Male', 'Male', 'Male', 'Male', 'Male', 'Male', 'Male', 'Male', 'Male', 'Male', 'Male', 'Male', 'Male', 'Male', 'Female', 'Female', 'Female', 'Female', 'Female', 'Female', 'Female', 'Female', 'Female', 'Female', 'Female', 'Female', 'Female', 'Female', 'Female', 'Female', 'Female', 'Female', 'Female', 'Female', 'Female', 'Female', 'Female', 'Female', 'Female', 'Female', 'Female', 'Female', 'Female', 'Female', 'Female', 'Female', 'Female', 'Female', 'Female', 'Female', 'Female', 'Female', 'Female', 'Female', 'Female', 'Female', 'Female', 'Female', 'Female', 'Female', 'Female', 'Female', 'Female', 'Female', 'Female', 'Female', 'Female', 'Female', 'Female', 'Female', 'Female', 'Female', 'Female', 'Female', 'Female', 'Female', 'Female', 'Female', 'Female', 'Female', 'Female', 'Female', 'Female', 'Female', 'Female', 'Female', 'Female', 'Female', 'Female', 'Female', 'Female', 'Female', 'Female', 'Female', 'Female', 'Female', 'Female', 'Female', 'Female', 'Female', 'Female', 'Female', 'Female', 'Female', 'Female', 'Female', 'Female', 'Female', 'Female', 'Female', 'Female', 'Female', 'Female', 'Female', 'Male', 'Male', 'Male', 'Male', 'Male', 'Male', 'Male', 'Male', 'Male', 'Male', 'Male', 'Male', 'Male', 'Male', 'Male', 'Male', 'Male', 'Male', 'Male', 'Male', 'Male', 'Male', 'Male', 'Male', 'Male', 'Male', 'Male', 'Male', 'Male', 'Male', 'Male', 'Male', 'Male', 'Male', 'Male', 'Male', 'Male', 'Male', 'Male', 'Male', 'Male', 'Male', 'Male', 'Male', 'Male', 'Male', 'Male', 'Male', 'Male', 'Male', 'Male', 'Male', 'Male', 'Male', 'Male', 'Male', 'Male', 'Male', 'Male', 'Male', 'Male', 'Male', 'Male', 'Male', 'Male', 'Male', 'Male', 'Male', 'Male', 'Male', 'Male', 'Male', 'Male', 'Male', 'Male', 'Male', 'Male', 'Male', 'Male', 'Male', 'Male', 'Male', 'Male', 'Male', 'Male', 'Male', 'Male', 'Male', 'Male', 'Male', 'Male', 'Male', 'Male', 'Male', 'Male', 'Male', 'Male', 'Male', 'Male', 'Male', 'Female', 'Female', 'Female', 'Female', 'Female', 'Female', 'Female', 'Female', 'Female', 'Female', 'Female', 'Female', 'Female', 'Female', 'Female', 'Female', 'Female', 'Female', 'Female', 'Female', 'Female', 'Female', 'Female', 'Female', 'Female', 'Female', 'Female', 'Female', 'Female', 'Female', 'Female', 'Female', 'Female', 'Female', 'Female', 'Female', 'Female', 'Female', 'Female', 'Female', 'Female', 'Female', 'Female', 'Female', 'Female', 'Female', 'Female', 'Female', 'Female', 'Female', 'Female', 'Female', 'Female', 'Female', 'Female', 'Female', 'Female', 'Female', 'Female', 'Female', 'Female', 'Female', 'Female', 'Female', 'Female', 'Female', 'Female', 'Female', 'Female', 'Female', 'Female', 'Female', 'Female', 'Female', 'Female', 'Female', 'Female', 'Female', 'Female', 'Female', 'Female', 'Female', 'Female', 'Female', 'Female', 'Female', 'Female', 'Female', 'Female', 'Female', 'Female', 'Female', 'Female', 'Female', 'Female', 'Female', 'Female', 'Female', 'Female', 'Female', 'Male', 'Male', 'Male', 'Male', 'Male', 'Male', 'Male', 'Male', 'Male', 'Male', 'Male', 'Male', 'Male', 'Male', 'Male', 'Male', 'Male', 'Male', 'Male', 'Male', 'Male', 'Male', 'Male', 'Male', 'Male', 'Male', 'Male', 'Male', 'Male', 'Male', 'Male', 'Male', 'Male', 'Male', 'Male', 'Male', 'Male', 'Male', 'Male', 'Male', 'Male', 'Male', 'Male', 'Male', 'Male', 'Male', 'Male', 'Male', 'Male', 'Male', 'Male', 'Male', 'Male', 'Male', 'Male', 'Male', 'Male', 'Male', 'Male', 'Male', 'Male', 'Male', 'Male', 'Male', 'Male', 'Male', 'Male', 'Male', 'Male', 'Male', 'Male', 'Male', 'Male', 'Male', 'Male', 'Male', 'Male', 'Male', 'Male', 'Male', 'Male', 'Male', 'Male', 'Male', 'Male', 'Male', 'Male', 'Male', 'Male', 'Male', 'Male', 'Male', 'Male', 'Male', 'Male', 'Male', 'Male', 'Male', 'Male', 'Male', 'Female', 'Female', 'Female', 'Female', 'Female', 'Female', 'Female', 'Female', 'Female', 'Female', 'Female', 'Female', 'Female', 'Female', 'Female', 'Female', 'Female', 'Female', 'Female', 'Female', 'Female', 'Female', 'Female', 'Female', 'Female', 'Female', 'Female', 'Female', 'Female', 'Female', 'Female', 'Female', 'Female', 'Female', 'Female', 'Female', 'Female', 'Female', 'Female', 'Female', 'Female', 'Female', 'Female', 'Female', 'Female', 'Female', 'Female', 'Female', 'Female', 'Female', 'Female', 'Female', 'Female', 'Female', 'Female', 'Female', 'Female', 'Female', 'Female', 'Female', 'Female', 'Female', 'Female', 'Female', 'Female', 'Female', 'Female', 'Female', 'Female', 'Female', 'Female', 'Female', 'Female', 'Female', 'Female', 'Female', 'Female', 'Female', 'Female', 'Female', 'Female', 'Female', 'Female', 'Female', 'Female', 'Female', 'Female', 'Female', 'Female', 'Female', 'Female', 'Female', 'Female', 'Female', 'Female', 'Female', 'Female', 'Female', 'Female', 'Female']}\n"
     ]
    }
   ],
   "source": [
    "entries = {}\n",
    "names = []\n",
    "countries = []\n",
    "genders = []\n",
    "for key, value in europe.items():\n",
    "    print(key)\n",
    "    results = nd.get_top_names(n=top, country_alpha2=key)\n",
    "    print(results)\n",
    "    for name_male in results[key][\"M\"]:\n",
    "        names.append(name_male)\n",
    "        countries.append(value)\n",
    "        genders.append(\"Male\")\n",
    "\n",
    "    for name_female in results[key][\"F\"]:\n",
    "        names.append(name_female)\n",
    "        countries.append(value)\n",
    "        genders.append(\"Female\")\n",
    "\n",
    "entries[\"Name\"] = names\n",
    "entries[\"Country\"] = countries\n",
    "entries[\"Gender\"] = genders\n",
    "\n",
    "print(entries)\n",
    "    "
   ]
  },
  {
   "cell_type": "code",
   "execution_count": 117,
   "id": "95300120",
   "metadata": {},
   "outputs": [
    {
     "name": "stdout",
     "output_type": "stream",
     "text": [
      "(600, 3)\n"
     ]
    },
    {
     "data": {
      "text/html": [
       "<div>\n",
       "<style scoped>\n",
       "    .dataframe tbody tr th:only-of-type {\n",
       "        vertical-align: middle;\n",
       "    }\n",
       "\n",
       "    .dataframe tbody tr th {\n",
       "        vertical-align: top;\n",
       "    }\n",
       "\n",
       "    .dataframe thead th {\n",
       "        text-align: right;\n",
       "    }\n",
       "</style>\n",
       "<table border=\"1\" class=\"dataframe\">\n",
       "  <thead>\n",
       "    <tr style=\"text-align: right;\">\n",
       "      <th></th>\n",
       "      <th>Name</th>\n",
       "      <th>Country</th>\n",
       "      <th>Gender</th>\n",
       "    </tr>\n",
       "  </thead>\n",
       "  <tbody>\n",
       "    <tr>\n",
       "      <th>0</th>\n",
       "      <td>Michael</td>\n",
       "      <td>Germany</td>\n",
       "      <td>Male</td>\n",
       "    </tr>\n",
       "    <tr>\n",
       "      <th>1</th>\n",
       "      <td>Thomas</td>\n",
       "      <td>Germany</td>\n",
       "      <td>Male</td>\n",
       "    </tr>\n",
       "    <tr>\n",
       "      <th>2</th>\n",
       "      <td>Andreas</td>\n",
       "      <td>Germany</td>\n",
       "      <td>Male</td>\n",
       "    </tr>\n",
       "    <tr>\n",
       "      <th>3</th>\n",
       "      <td>Christian</td>\n",
       "      <td>Germany</td>\n",
       "      <td>Male</td>\n",
       "    </tr>\n",
       "    <tr>\n",
       "      <th>4</th>\n",
       "      <td>Stefan</td>\n",
       "      <td>Germany</td>\n",
       "      <td>Male</td>\n",
       "    </tr>\n",
       "  </tbody>\n",
       "</table>\n",
       "</div>"
      ],
      "text/plain": [
       "        Name  Country Gender\n",
       "0    Michael  Germany   Male\n",
       "1     Thomas  Germany   Male\n",
       "2    Andreas  Germany   Male\n",
       "3  Christian  Germany   Male\n",
       "4     Stefan  Germany   Male"
      ]
     },
     "execution_count": 117,
     "metadata": {},
     "output_type": "execute_result"
    }
   ],
   "source": [
    "df = dd.from_dict(entries, npartitions=10).compute()\n",
    "print(df.shape)\n",
    "df.head()"
   ]
  },
  {
   "cell_type": "code",
   "execution_count": 118,
   "id": "04d00f6f",
   "metadata": {},
   "outputs": [
    {
     "name": "stdout",
     "output_type": "stream",
     "text": [
      "Name       0\n",
      "Country    0\n",
      "Gender     0\n",
      "dtype: int64\n"
     ]
    }
   ],
   "source": [
    "print(df.isna().sum())\n"
   ]
  },
  {
   "cell_type": "code",
   "execution_count": 119,
   "id": "953122bd",
   "metadata": {},
   "outputs": [
    {
     "name": "stdout",
     "output_type": "stream",
     "text": [
      "Male      300\n",
      "Female    300\n",
      "Name: Gender, dtype: int64\n"
     ]
    },
    {
     "data": {
      "text/plain": [
       "<AxesSubplot:ylabel='Gender'>"
      ]
     },
     "execution_count": 119,
     "metadata": {},
     "output_type": "execute_result"
    },
    {
     "data": {
      "image/png": "[encoded data removed]",
      "text/plain": [
       "<Figure size 500x500 with 1 Axes>"
      ]
     },
     "metadata": {},
     "output_type": "display_data"
    }
   ],
   "source": [
    "print(df[\"Gender\"].value_counts())\n",
    "df[\"Gender\"].value_counts().plot(kind='pie', figsize=(5,5))"
   ]
  },
  {
   "cell_type": "code",
   "execution_count": 120,
   "id": "b6b0b26d",
   "metadata": {},
   "outputs": [
    {
     "name": "stdout",
     "output_type": "stream",
     "text": [
      "Germany    200\n",
      "Spain      200\n",
      "France     200\n",
      "Name: Country, dtype: int64\n"
     ]
    },
    {
     "data": {
      "text/plain": [
       "<AxesSubplot:ylabel='Country'>"
      ]
     },
     "execution_count": 120,
     "metadata": {},
     "output_type": "execute_result"
    },
    {
     "data": {
      "image/png": "[encoded data removed]",
      "text/plain": [
       "<Figure size 500x500 with 1 Axes>"
      ]
     },
     "metadata": {},
     "output_type": "display_data"
    }
   ],
   "source": [
    "print(df.Country.value_counts())\n",
    "df.Country.value_counts().plot(kind='pie', figsize=(5,5))"
   ]
  },
  {
   "cell_type": "code",
   "execution_count": 121,
   "id": "62ba29b5",
   "metadata": {},
   "outputs": [
    {
     "data": {
      "text/plain": [
       "<AxesSubplot:xlabel='Country', ylabel='Count'>"
      ]
     },
     "execution_count": 121,
     "metadata": {},
     "output_type": "execute_result"
    },
    {
     "data": {
      "image/png": "[encoded data removed]",
      "text/plain": [
       "<Figure size 640x480 with 1 Axes>"
      ]
     },
     "metadata": {},
     "output_type": "display_data"
    }
   ],
   "source": [
    "sns.histplot(data=df, x=\"Country\", hue=\"Gender\", multiple=\"stack\")"
   ]
  },
  {
   "cell_type": "code",
   "execution_count": 122,
   "id": "d55b8fc2",
   "metadata": {},
   "outputs": [
    {
     "name": "stdout",
     "output_type": "stream",
     "text": [
      "122\n",
      "           Name  Country  Gender\n",
      "0       Michael  Germany    Male\n",
      "1        Thomas  Germany    Male\n",
      "3     Christian  Germany    Male\n",
      "5        Daniel  Germany    Male\n",
      "12       Andrea  Germany    Male\n",
      "..          ...      ...     ...\n",
      "579  Christiane   France  Female\n",
      "587  Jacqueline   France  Female\n",
      "590    Jennifer   France  Female\n",
      "592        Lisa   France  Female\n",
      "599      Marina   France  Female\n",
      "\n",
      "[122 rows x 3 columns]\n"
     ]
    }
   ],
   "source": [
    "dups = df[df.duplicated(subset=[\"Name\"], keep=False)]\n",
    "print(len(dups))\n",
    "print(dups)"
   ]
  },
  {
   "cell_type": "code",
   "execution_count": 123,
   "id": "949094d9",
   "metadata": {},
   "outputs": [],
   "source": [
    "client.shutdown()"
   ]
  },
  {
   "cell_type": "code",
   "execution_count": null,
   "id": "e27515de",
   "metadata": {},
   "outputs": [],
   "source": []
  }
 ],
 "metadata": {
  "kernelspec": {
   "display_name": "name-clf",
   "language": "python",
   "name": "python3"
  },
  "language_info": {
   "codemirror_mode": {
    "name": "ipython",
    "version": 3
   },
   "file_extension": ".py",
   "mimetype": "text/x-python",
   "name": "python",
   "nbconvert_exporter": "python",
   "pygments_lexer": "ipython3",
   "version": "3.9.15"
  },
  "vscode": {
   "interpreter": {
    "hash": "f5978f2f5b0a3ef0276425fba9a2a1232fa2fd501b13661a316074abcd0552b5"
   }
  }
 },
 "nbformat": 4,
 "nbformat_minor": 5
}
