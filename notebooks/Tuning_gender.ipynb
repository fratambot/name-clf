{
 "cells": [
  {
   "cell_type": "code",
   "execution_count": 27,
   "metadata": {},
   "outputs": [
    {
     "name": "stdout",
     "output_type": "stream",
     "text": [
      "The autoreload extension is already loaded. To reload it, use:\n",
      "  %reload_ext autoreload\n"
     ]
    }
   ],
   "source": [
    "%load_ext autoreload\n",
    "%autoreload 2"
   ]
  },
  {
   "cell_type": "code",
   "execution_count": 28,
   "metadata": {},
   "outputs": [],
   "source": [
    "#import json\n",
    "import math\n",
    "import matplotlib.pyplot as plt\n",
    "import numpy as np\n",
    "import os\n",
    "import pandas as pd\n",
    "import pickle\n",
    "#import seaborn as sns\n",
    "\n",
    "import keras_tuner\n",
    "import tensorflow as tf\n",
    "import tensorflow.keras.layers as tfl\n",
    "\n",
    "from sklearn.metrics import confusion_matrix, classification_report"
   ]
  },
  {
   "cell_type": "code",
   "execution_count": 29,
   "metadata": {},
   "outputs": [],
   "source": [
    "pd.options.display.max_seq_items = 2000\n",
    "pd.options.display.max_columns = 500\n",
    "pd.options.display.max_rows = 800\n",
    "pd.options.display.max_colwidth = 200\n",
    "pd.options.display.width = 800"
   ]
  },
  {
   "cell_type": "code",
   "execution_count": 30,
   "metadata": {},
   "outputs": [],
   "source": [
    "base_url = '/Users/francesco/REPOS/nam-nat-CNN-clf/app'\n",
    "os.chdir(base_url)"
   ]
  },
  {
   "cell_type": "code",
   "execution_count": 31,
   "metadata": {},
   "outputs": [],
   "source": [
    "from models.hypermodel import hyperband_tuner"
   ]
  },
  {
   "attachments": {},
   "cell_type": "markdown",
   "metadata": {},
   "source": [
    "### Load artifacts"
   ]
  },
  {
   "cell_type": "code",
   "execution_count": 32,
   "metadata": {},
   "outputs": [
    {
     "name": "stdout",
     "output_type": "stream",
     "text": [
      "(3990, 16)\n",
      "(705, 16)\n"
     ]
    }
   ],
   "source": [
    "with np.load(os.path.join(base_url, \"artifacts/training_data\", \"gender_data.npz\"), allow_pickle=True) as f:\n",
    "    x_train, y_train = f[\"x_train\"], f[\"y_train\"]\n",
    "    x_val, y_val = f[\"x_val\"], f[\"y_val\"]\n",
    "    \n",
    "print(x_train.shape)\n",
    "print(x_val.shape)"
   ]
  },
  {
   "cell_type": "code",
   "execution_count": 33,
   "metadata": {},
   "outputs": [],
   "source": [
    "with open(os.path.join(base_url, \"artifacts/training_data\", \"gender_tokenizer.pkl\"), \"rb\") as f:\n",
    "    tokenizer = pickle.load(f)"
   ]
  },
  {
   "attachments": {},
   "cell_type": "markdown",
   "metadata": {},
   "source": [
    "### Build model"
   ]
  },
  {
   "cell_type": "code",
   "execution_count": 83,
   "metadata": {},
   "outputs": [
    {
     "name": "stdout",
     "output_type": "stream",
     "text": [
      "embedding_size =  33\n",
      "metrics =  [<keras.metrics.metrics.CategoricalAccuracy object at 0x7fdafa0df6d0>]\n",
      "softmax_units =  3\n",
      "input_shape =  16\n"
     ]
    }
   ],
   "source": [
    "# Params\n",
    "embedding_size = len(tokenizer.word_index)\n",
    "print(\"embedding_size = \", embedding_size)\n",
    "metrics = [tf.keras.metrics.CategoricalAccuracy()]\n",
    "print(\"metrics = \", metrics)\n",
    "softmax_units = y_train.shape[1]\n",
    "print(\"softmax_units = \", softmax_units)\n",
    "input_shape = x_train.shape[1]\n",
    "print(\"input_shape = \", input_shape)"
   ]
  },
  {
   "cell_type": "code",
   "execution_count": 84,
   "metadata": {},
   "outputs": [],
   "source": [
    "# Batch data\n",
    "train_dataset = tf.data.Dataset.from_tensor_slices((x_train, y_train)).batch(64)\n",
    "val_dataset = tf.data.Dataset.from_tensor_slices((x_val, y_val)).batch(64)"
   ]
  },
  {
   "cell_type": "code",
   "execution_count": 113,
   "metadata": {},
   "outputs": [],
   "source": [
    "project_name = \"tuning_gender\"\n",
    "tuner = hyperband_tuner(input_shape, metrics, softmax_units, embedding_size, project_name)"
   ]
  },
  {
   "cell_type": "code",
   "execution_count": 114,
   "metadata": {},
   "outputs": [
    {
     "name": "stdout",
     "output_type": "stream",
     "text": [
      "Search space summary\n",
      "Default search space size: 5\n",
      "dropout_1 (Float)\n",
      "{'default': 0.3, 'conditions': [], 'min_value': 0.0, 'max_value': 0.5, 'step': 0.1, 'sampling': None}\n",
      "dense_units_1 (Choice)\n",
      "{'default': 32, 'conditions': [], 'values': [32, 64, 128, 256], 'ordered': True}\n",
      "dropout_2 (Float)\n",
      "{'default': 0.5, 'conditions': [], 'min_value': 0.0, 'max_value': 0.5, 'step': 0.1, 'sampling': None}\n",
      "dense_units_2 (Choice)\n",
      "{'default': 32, 'conditions': [], 'values': [32, 64, 128, 256], 'ordered': True}\n",
      "lr (Float)\n",
      "{'default': 0.0001, 'conditions': [], 'min_value': 0.0001, 'max_value': 0.01, 'step': None, 'sampling': 'log'}\n"
     ]
    }
   ],
   "source": [
    "tuner.search_space_summary(extended=True)"
   ]
  },
  {
   "attachments": {},
   "cell_type": "markdown",
   "metadata": {},
   "source": [
    "### Tuning"
   ]
  },
  {
   "cell_type": "code",
   "execution_count": 115,
   "metadata": {},
   "outputs": [
    {
     "name": "stdout",
     "output_type": "stream",
     "text": [
      "logs/tb_gen_hpt\n"
     ]
    }
   ],
   "source": [
    "hpt_dir = \"logs/tb_gen_hpt\"\n",
    "fit_dir = \"logs/tb_gen_fit\"\n",
    "print(hpt_dir)\n",
    "tensorboard_callback_htp = tf.keras.callbacks.TensorBoard(log_dir=hpt_dir, histogram_freq=1)\n",
    "tensorboard_callback_fit = tf.keras.callbacks.TensorBoard(log_dir=fit_dir, histogram_freq=1)"
   ]
  },
  {
   "cell_type": "code",
   "execution_count": 116,
   "metadata": {},
   "outputs": [
    {
     "name": "stdout",
     "output_type": "stream",
     "text": [
      "The tensorboard extension is already loaded. To reload it, use:\n",
      "  %reload_ext tensorboard\n"
     ]
    }
   ],
   "source": [
    "%load_ext tensorboard"
   ]
  },
  {
   "cell_type": "code",
   "execution_count": 117,
   "metadata": {},
   "outputs": [
    {
     "name": "stdout",
     "output_type": "stream",
     "text": [
      "Estimated trials:  373.5812491475342\n"
     ]
    }
   ],
   "source": [
    "# Estimated trials simulation:\n",
    "sim_max_epochs = 20\n",
    "sim_iterations = 1\n",
    "sim_factor = 2\n",
    "est_trials = sim_iterations*sim_max_epochs*(math.log(sim_max_epochs, sim_factor))**2\n",
    "print(\"Estimated trials: \", est_trials)"
   ]
  },
  {
   "cell_type": "code",
   "execution_count": 118,
   "metadata": {},
   "outputs": [
    {
     "name": "stdout",
     "output_type": "stream",
     "text": [
      "Trial 92 Complete [00h 00m 25s]\n",
      "val_loss: 0.7715394496917725\n",
      "\n",
      "Best val_loss So Far: 0.7641831636428833\n",
      "Total elapsed time: 00h 12m 22s\n",
      "INFO:tensorflow:Oracle triggered exit\n"
     ]
    }
   ],
   "source": [
    "tuner.search(\n",
    "    train_dataset,\n",
    "    validation_data=val_dataset,\n",
    "    callbacks=[tensorboard_callback_htp, tf.keras.callbacks.EarlyStopping(monitor='val_loss', patience=10)]\n",
    ")"
   ]
  },
  {
   "cell_type": "code",
   "execution_count": 119,
   "metadata": {},
   "outputs": [
    {
     "name": "stdout",
     "output_type": "stream",
     "text": [
      "Results summary\n",
      "Results in logs/gen_hpt/tuning_gender\n",
      "Showing 3 best trials\n",
      "<keras_tuner.engine.objective.Objective object at 0x7fdae70d5e50>\n",
      "Trial summary\n",
      "Hyperparameters:\n",
      "dropout_1: 0.2\n",
      "dense_units_1: 64\n",
      "dropout_2: 0.0\n",
      "dense_units_2: 64\n",
      "lr: 0.0061221776185432925\n",
      "tuner/epochs: 10\n",
      "tuner/initial_epoch: 0\n",
      "tuner/bracket: 1\n",
      "tuner/round: 0\n",
      "Score: 0.7641831636428833\n",
      "Trial summary\n",
      "Hyperparameters:\n",
      "dropout_1: 0.30000000000000004\n",
      "dense_units_1: 64\n",
      "dropout_2: 0.4\n",
      "dense_units_2: 128\n",
      "lr: 0.0014597926340128918\n",
      "tuner/epochs: 20\n",
      "tuner/initial_epoch: 0\n",
      "tuner/bracket: 0\n",
      "tuner/round: 0\n",
      "Score: 0.768103301525116\n",
      "Trial summary\n",
      "Hyperparameters:\n",
      "dropout_1: 0.4\n",
      "dense_units_1: 256\n",
      "dropout_2: 0.1\n",
      "dense_units_2: 256\n",
      "lr: 0.004737761473125344\n",
      "tuner/epochs: 20\n",
      "tuner/initial_epoch: 0\n",
      "tuner/bracket: 0\n",
      "tuner/round: 0\n",
      "Score: 0.7715394496917725\n"
     ]
    }
   ],
   "source": [
    "tuner.results_summary(3)"
   ]
  },
  {
   "cell_type": "code",
   "execution_count": 120,
   "metadata": {},
   "outputs": [
    {
     "name": "stdout",
     "output_type": "stream",
     "text": [
      "Model: \"sequential_1\"\n",
      "_________________________________________________________________\n",
      " Layer (type)                Output Shape              Param #   \n",
      "=================================================================\n",
      " embedding_1 (Embedding)     (None, 16, 33)            1122      \n",
      "                                                                 \n",
      " conv1d_5 (Conv1D)           (None, 12, 16)            2656      \n",
      "                                                                 \n",
      " dropout_2 (Dropout)         (None, 12, 16)            0         \n",
      "                                                                 \n",
      " conv1d_6 (Conv1D)           (None, 8, 16)             1296      \n",
      "                                                                 \n",
      " conv1d_7 (Conv1D)           (None, 6, 16)             784       \n",
      "                                                                 \n",
      " conv1d_8 (Conv1D)           (None, 4, 16)             784       \n",
      "                                                                 \n",
      " conv1d_9 (Conv1D)           (None, 2, 16)             784       \n",
      "                                                                 \n",
      " flatten_1 (Flatten)         (None, 32)                0         \n",
      "                                                                 \n",
      " dense_3 (Dense)             (None, 64)                2112      \n",
      "                                                                 \n",
      " dropout_3 (Dropout)         (None, 64)                0         \n",
      "                                                                 \n",
      " dense_4 (Dense)             (None, 64)                4160      \n",
      "                                                                 \n",
      " dense_5 (Dense)             (None, 3)                 195       \n",
      "                                                                 \n",
      "=================================================================\n",
      "Total params: 13,893\n",
      "Trainable params: 13,893\n",
      "Non-trainable params: 0\n",
      "_________________________________________________________________\n",
      "None\n"
     ]
    }
   ],
   "source": [
    "best_hps = tuner.get_best_hyperparameters()[0]\n",
    "best_model = tuner.hypermodel.build(best_hps)\n",
    "print(best_model.summary())"
   ]
  },
  {
   "cell_type": "code",
   "execution_count": null,
   "metadata": {},
   "outputs": [],
   "source": []
  }
 ],
 "metadata": {
  "kernelspec": {
   "display_name": "nam-nat-CNN-clf",
   "language": "python",
   "name": "python3"
  },
  "language_info": {
   "codemirror_mode": {
    "name": "ipython",
    "version": 3
   },
   "file_extension": ".py",
   "mimetype": "text/x-python",
   "name": "python",
   "nbconvert_exporter": "python",
   "pygments_lexer": "ipython3",
   "version": "3.9.15"
  },
  "orig_nbformat": 4,
  "vscode": {
   "interpreter": {
    "hash": "e4b5f215e7873d7704b783e5deeb7bd03ff86fe6a29d6e777cd829734451072d"
   }
  }
 },
 "nbformat": 4,
 "nbformat_minor": 2
}
